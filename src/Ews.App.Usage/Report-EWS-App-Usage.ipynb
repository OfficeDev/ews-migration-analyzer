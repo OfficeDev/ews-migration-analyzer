{
 "cells": [
  {
   "cell_type": "markdown",
   "id": "bfbe5c95",
   "metadata": {},
   "source": [
    "# EWS Application Usage Report\n",
    "\n",
    "Exchange Web Services (EWS) will be shut down in October 2026. Until then all applications using EWS must be transitioned to Graph API or an alternative solution. This report will identify the applications with EWS API permissions in your tenant and indicate whether the App has been used recently based on the signin auditlog.\n",
    "\n",
    "Microsoft recommends initiating"
   ]
  },
  {
   "cell_type": "code",
   "execution_count": 83,
   "id": "e834b798",
   "metadata": {},
   "outputs": [
    {
     "name": "stdout",
     "output_type": "stream",
     "text": [
      "Requirement already satisfied: matplotlib in c:\\users\\tmechelke\\appdata\\local\\programs\\python\\python313\\lib\\site-packages (3.10.1)\n",
      "Requirement already satisfied: pandas in c:\\users\\tmechelke\\appdata\\local\\programs\\python\\python313\\lib\\site-packages (2.2.3)\n",
      "Requirement already satisfied: contourpy>=1.0.1 in c:\\users\\tmechelke\\appdata\\local\\programs\\python\\python313\\lib\\site-packages (from matplotlib) (1.3.2)\n",
      "Requirement already satisfied: cycler>=0.10 in c:\\users\\tmechelke\\appdata\\local\\programs\\python\\python313\\lib\\site-packages (from matplotlib) (0.12.1)\n",
      "Requirement already satisfied: fonttools>=4.22.0 in c:\\users\\tmechelke\\appdata\\local\\programs\\python\\python313\\lib\\site-packages (from matplotlib) (4.57.0)\n",
      "Requirement already satisfied: kiwisolver>=1.3.1 in c:\\users\\tmechelke\\appdata\\local\\programs\\python\\python313\\lib\\site-packages (from matplotlib) (1.4.8)\n",
      "Requirement already satisfied: numpy>=1.23 in c:\\users\\tmechelke\\appdata\\local\\programs\\python\\python313\\lib\\site-packages (from matplotlib) (2.2.3)\n",
      "Requirement already satisfied: packaging>=20.0 in c:\\users\\tmechelke\\appdata\\roaming\\python\\python313\\site-packages (from matplotlib) (24.2)\n",
      "Requirement already satisfied: pillow>=8 in c:\\users\\tmechelke\\appdata\\local\\programs\\python\\python313\\lib\\site-packages (from matplotlib) (11.2.1)\n",
      "Requirement already satisfied: pyparsing>=2.3.1 in c:\\users\\tmechelke\\appdata\\local\\programs\\python\\python313\\lib\\site-packages (from matplotlib) (3.2.3)\n",
      "Requirement already satisfied: python-dateutil>=2.7 in c:\\users\\tmechelke\\appdata\\roaming\\python\\python313\\site-packages (from matplotlib) (2.9.0.post0)\n",
      "Requirement already satisfied: pytz>=2020.1 in c:\\users\\tmechelke\\appdata\\local\\programs\\python\\python313\\lib\\site-packages (from pandas) (2025.1)\n",
      "Requirement already satisfied: tzdata>=2022.7 in c:\\users\\tmechelke\\appdata\\local\\programs\\python\\python313\\lib\\site-packages (from pandas) (2025.1)\n",
      "Requirement already satisfied: six>=1.5 in c:\\users\\tmechelke\\appdata\\roaming\\python\\python313\\site-packages (from python-dateutil>=2.7->matplotlib) (1.17.0)\n",
      "Note: you may need to restart the kernel to use updated packages.\n"
     ]
    },
    {
     "name": "stderr",
     "output_type": "stream",
     "text": [
      "\n",
      "[notice] A new release of pip is available: 24.3.1 -> 25.0.1\n",
      "[notice] To update, run: python.exe -m pip install --upgrade pip\n"
     ]
    }
   ],
   "source": [
    "%pip install matplotlib pandas"
   ]
  },
  {
   "cell_type": "code",
   "execution_count": null,
   "id": "0db0c04f",
   "metadata": {},
   "outputs": [
    {
     "name": "stdout",
     "output_type": "stream",
     "text": [
      "Reading settings from ./appsettings.local.json\n",
      "Settings loaded successfully\n"
     ]
    }
   ],
   "source": [
    "import sys\n",
    "sys.path.append('./Modules')\n",
    "import ews_utilities as utils\n",
    "\n",
    "app_settings = utils.get_config()\n",
    "\n",
    "data_folder = app_settings['OutputPath']\n"
   ]
  },
  {
   "cell_type": "markdown",
   "id": "e32404b0",
   "metadata": {},
   "source": [
    "## Merge App Registrations and Signin Data\n",
    "\n",
    "The code below merges the app registration data for EWS applications with the signin data. The resulting data will be saved to the CSV file"
   ]
  },
  {
   "cell_type": "code",
   "execution_count": 85,
   "id": "747d6a76",
   "metadata": {},
   "outputs": [],
   "source": [
    "import os\n",
    "import glob\n",
    "import csv\n",
    "\n",
    "\n",
    "def get_latest(pattern):\n",
    "    files = glob.glob(os.path.join(data_folder, pattern))\n",
    "    if not files:\n",
    "        return None\n",
    "    return max(files, key=os.path.getmtime)\n",
    "\n",
    "entra_file = get_latest(\"EntraAppRegistrations-*.csv\")\n",
    "signin_file = get_latest(\"App-SigninActivity-*.csv\")\n",
    "ews_file = get_latest(\"EWS-EntraAppRegistrations-*.csv\")\n",
    "\n",
    "# Load EntraAppRegistrations\n",
    "entra_apps = {}\n",
    "with open(entra_file, newline='', encoding='utf-8') as f:\n",
    "    reader = csv.DictReader(f)\n",
    "    for row in reader:\n",
    "        entra_apps[row['appId']] = row\n",
    "\n",
    "# Load EWS-EntraAppRegistrations appids\n",
    "ews_appids = set()\n",
    "with open(ews_file, newline='', encoding='utf-8') as f:\n",
    "    reader = csv.DictReader(f)\n",
    "    for row in reader:\n",
    "        ews_appids.add(row['ApplicationID'])\n",
    "\n",
    "# Load App-SignInActivity last sign-in per appId\n",
    "signin_last = {}\n",
    "with open(signin_file, newline='', encoding='utf-8') as f:\n",
    "    reader = csv.DictReader(f)\n",
    "    for row in reader:\n",
    "        appid = row.get('AppId')\n",
    "        dt = row.get('LastSignIn')\n",
    "        if appid and dt:\n",
    "            # Keep the latest sign-in\n",
    "            if appid not in signin_last or dt > signin_last[appid]:\n",
    "                signin_last[appid] = dt\n",
    "\n",
    "# Write merged output\n",
    "output_file = os.path.join(data_folder, \"EWS-Usage.csv\")\n",
    "with open(output_file, 'w', newline='', encoding='utf-8') as f:\n",
    "    fieldnames = [\n",
    "        'appId', 'createdDateTime', 'displayName', 'description', 'notes',\n",
    "        'UsesEws', 'LastSignIn', 'EntraLink'\n",
    "    ]\n",
    "    writer = csv.DictWriter(f, fieldnames=fieldnames)\n",
    "    writer.writeheader()\n",
    "    for appid, row in entra_apps.items():\n",
    "        writer.writerow({\n",
    "            'appId': appid,\n",
    "            'createdDateTime': row.get('createdDateTime', ''),\n",
    "            'displayName': row.get('displayName', ''),\n",
    "            'description': row.get('description', ''),\n",
    "            'notes': row.get('notes', ''),\n",
    "            'UsesEws': str(appid in ews_appids),\n",
    "            'LastSignIn': signin_last.get(appid, ''),\n",
    "            'EntraLink' : f\"https://entra.microsoft.com/#view/Microsoft_AAD_RegisteredApps/ApplicationMenuBlade/~/Overview/appId/{appid}\"\n",
    "        })\n"
   ]
  },
  {
   "cell_type": "markdown",
   "id": "310b0545",
   "metadata": {},
   "source": [
    "## Display Chart of EWS App Registrations vs Other App Registrations\n",
    "\n",
    "This code produces a donut chart comparing the number of registered applications with EWS permissions to those without."
   ]
  },
  {
   "cell_type": "code",
   "execution_count": 86,
   "id": "01468657",
   "metadata": {},
   "outputs": [
    {
     "data": {
      "image/png": "[encoded data removed]",
      "text/plain": [
       "<Figure size 640x480 with 1 Axes>"
      ]
     },
     "metadata": {},
     "output_type": "display_data"
    }
   ],
   "source": [
    "import pandas as pd\n",
    "\n",
    "import matplotlib.pyplot as plt\n",
    "\n",
    "# Load merged data\n",
    "app_usage_df = pd.read_csv(output_file)\n",
    "\n",
    "# Count apps by UsesEws\n",
    "counts = app_usage_df['UsesEws'].value_counts().rename(index={'True': 'Frank', 'False': 'Other'})\n",
    "\n",
    "# Donut chart\n",
    "fig, ax = plt.subplots()\n",
    "wedges, texts, autotexts = ax.pie(\n",
    "    counts,\n",
    "    labels=counts.index,\n",
    "    autopct='%1.1f%%',\n",
    "    startangle=90,\n",
    "    wedgeprops=dict(width=0.6)\n",
    ")\n",
    "ax.set_title('App Registrations with EWS Permissions')\n",
    "plt.show()"
   ]
  },
  {
   "cell_type": "code",
   "execution_count": 87,
   "id": "5512b937",
   "metadata": {},
   "outputs": [
    {
     "data": {
      "image/png": "[encoded data removed]",
      "text/plain": [
       "<Figure size 600x300 with 1 Axes>"
      ]
     },
     "metadata": {},
     "output_type": "display_data"
    }
   ],
   "source": [
    "# Count total apps with EWS permissions\n",
    "ews_apps_count = app_usage_df['UsesEws'].sum()\n",
    "\n",
    "import matplotlib.pyplot as plt\n",
    "\n",
    "# Create a figure with white background and hot pink font color\n",
    "fig, ax = plt.subplots(figsize=(6, 3), facecolor='white')\n",
    "ax.set_facecolor('white')\n",
    "ax.axis('off')\n",
    "ax.text(\n",
    "    0.5, 0.5, f\"{ews_apps_count}\", \n",
    "    fontsize=50, ha='center', va='center', color='#007FFF'  # Hot pink\n",
    ")\n",
    "ax.text(\n",
    "    0.5, 0.2, \"Total EWS Apps\", \n",
    "    fontsize=14, ha='center', va='center', color='#007FFF'\n",
    ")\n",
    "plt.show()"
   ]
  },
  {
   "cell_type": "code",
   "execution_count": 88,
   "id": "f4bf9484",
   "metadata": {},
   "outputs": [
    {
     "data": {
      "image/png": "[encoded data removed]",
      "text/plain": [
       "<Figure size 600x300 with 1 Axes>"
      ]
     },
     "metadata": {},
     "output_type": "display_data"
    }
   ],
   "source": [
    "# Count total apps with EWS permissions and recent sign-in\n",
    "ews_active_apps_count = app_usage_df[\n",
    "    (app_usage_df['UsesEws']) & \n",
    "    (app_usage_df['LastSignIn'].notna()) & \n",
    "    (app_usage_df['LastSignIn'] != '')\n",
    "].shape[0]\n",
    "\n",
    "import matplotlib.pyplot as plt\n",
    "\n",
    "# Create a figure with white background and hot pink font color\n",
    "fig, ax = plt.subplots(figsize=(6, 3), facecolor='white')\n",
    "ax.set_facecolor('white')\n",
    "ax.axis('off')\n",
    "ax.text(\n",
    "    0.5, 0.5, f\"{ews_active_apps_count}\", \n",
    "    fontsize=50, ha='center', va='center', color='#FF1493'  # Hot pink\n",
    ")\n",
    "ax.text(\n",
    "    0.5, 0.2, \"Active EWS Apps\", \n",
    "    fontsize=14, ha='center', va='center', color='#FF1493'\n",
    ")\n",
    "plt.show()"
   ]
  },
  {
   "cell_type": "code",
   "execution_count": 89,
   "id": "2e848310",
   "metadata": {},
   "outputs": [
    {
     "data": {
      "image/png": "[encoded data removed]",
      "text/plain": [
       "<Figure size 600x300 with 1 Axes>"
      ]
     },
     "metadata": {},
     "output_type": "display_data"
    }
   ],
   "source": [
    "# Count total apps with EWS permissions and recent sign-in\n",
    "total_apps_count = app_usage_df.count()['appId']\n",
    "\n",
    "import matplotlib.pyplot as plt\n",
    "\n",
    "# Create a figure with white background and hot pink font color\n",
    "fig, ax = plt.subplots(figsize=(6, 3), facecolor='white')\n",
    "ax.set_facecolor('white')\n",
    "ax.axis('off')\n",
    "ax.text(\n",
    "    0.5, 0.5, f\"{total_apps_count}\", \n",
    "    fontsize=50, ha='center', va='center', color='#36454F'  # Charcoal gray\n",
    ")\n",
    "ax.text(\n",
    "    0.5, 0.2, \"Total Registered Apps\", \n",
    "    fontsize=14, ha='center', va='center', color='#36454F'\n",
    ")\n",
    "plt.show()"
   ]
  },
  {
   "cell_type": "markdown",
   "id": "801d83d5",
   "metadata": {},
   "source": [
    "## List of Applications with EWS Permissions\n",
    "\n",
    "The code below will produce a list of all EWS applications that had recent signin. The list can be exported to Excel for sharing and further analysis.\n",
    "\n",
    "EWS is deprecated and will be disabled in October 2026 and all applications using EWS at that time will stop functioning. To avoid that, all applications using EWS must be migrated to Microsoft Graph API or an alternative solution."
   ]
  },
  {
   "cell_type": "code",
   "execution_count": 90,
   "id": "7920b21b",
   "metadata": {},
   "outputs": [
    {
     "data": {
      "application/vnd.microsoft.datawrangler.viewer.v0+json": {
       "columns": [
        {
         "name": "index",
         "rawType": "int64",
         "type": "integer"
        },
        {
         "name": "ApplicationId",
         "rawType": "object",
         "type": "string"
        },
        {
         "name": "Name",
         "rawType": "object",
         "type": "string"
        },
        {
         "name": "Created Date",
         "rawType": "object",
         "type": "string"
        },
        {
         "name": "Last Signin",
         "rawType": "object",
         "type": "unknown"
        },
        {
         "name": "Entra Portal Link",
         "rawType": "object",
         "type": "string"
        }
       ],
       "ref": "aaff01c9-67ac-422c-9514-3e9adf1e11df",
       "rows": [
        [
         "5",
         "89f0ed2e-3148-4bf7-971b-f912f9e2563f",
         "EWS Canary",
         "4/8/2025 2:58:00 PM",
         "4/16/2025 4:57:30 PM",
         "https://entra.microsoft.com/#view/Microsoft_AAD_RegisteredApps/ApplicationMenuBlade/~/Overview/appId/89f0ed2e-3148-4bf7-971b-f912f9e2563f"
        ],
        [
         "56",
         "d4e2e991-413e-47b0-9ef1-979959f38de8",
         "PermissionViewer-PoC",
         "12/13/2021 2:00:32 PM",
         null,
         "https://entra.microsoft.com/#view/Microsoft_AAD_RegisteredApps/ApplicationMenuBlade/~/Overview/appId/d4e2e991-413e-47b0-9ef1-979959f38de8"
        ],
        [
         "63",
         "b241900b-5e97-4a3f-931d-ec16709148a4",
         "SPFx-Demo",
         "6/24/2020 2:18:46 PM",
         null,
         "https://entra.microsoft.com/#view/Microsoft_AAD_RegisteredApps/ApplicationMenuBlade/~/Overview/appId/b241900b-5e97-4a3f-931d-ec16709148a4"
        ]
       ],
       "shape": {
        "columns": 5,
        "rows": 3
       }
      },
      "text/html": [
       "<div>\n",
       "<style scoped>\n",
       "    .dataframe tbody tr th:only-of-type {\n",
       "        vertical-align: middle;\n",
       "    }\n",
       "\n",
       "    .dataframe tbody tr th {\n",
       "        vertical-align: top;\n",
       "    }\n",
       "\n",
       "    .dataframe thead th {\n",
       "        text-align: right;\n",
       "    }\n",
       "</style>\n",
       "<table border=\"1\" class=\"dataframe\">\n",
       "  <thead>\n",
       "    <tr style=\"text-align: right;\">\n",
       "      <th></th>\n",
       "      <th>ApplicationId</th>\n",
       "      <th>Name</th>\n",
       "      <th>Created Date</th>\n",
       "      <th>Last Signin</th>\n",
       "      <th>Entra Portal Link</th>\n",
       "    </tr>\n",
       "  </thead>\n",
       "  <tbody>\n",
       "    <tr>\n",
       "      <th>5</th>\n",
       "      <td>89f0ed2e-3148-4bf7-971b-f912f9e2563f</td>\n",
       "      <td>EWS Canary</td>\n",
       "      <td>4/8/2025 2:58:00 PM</td>\n",
       "      <td>4/16/2025 4:57:30 PM</td>\n",
       "      <td>https://entra.microsoft.com/#view/Microsoft_AA...</td>\n",
       "    </tr>\n",
       "    <tr>\n",
       "      <th>56</th>\n",
       "      <td>d4e2e991-413e-47b0-9ef1-979959f38de8</td>\n",
       "      <td>PermissionViewer-PoC</td>\n",
       "      <td>12/13/2021 2:00:32 PM</td>\n",
       "      <td>NaN</td>\n",
       "      <td>https://entra.microsoft.com/#view/Microsoft_AA...</td>\n",
       "    </tr>\n",
       "    <tr>\n",
       "      <th>63</th>\n",
       "      <td>b241900b-5e97-4a3f-931d-ec16709148a4</td>\n",
       "      <td>SPFx-Demo</td>\n",
       "      <td>6/24/2020 2:18:46 PM</td>\n",
       "      <td>NaN</td>\n",
       "      <td>https://entra.microsoft.com/#view/Microsoft_AA...</td>\n",
       "    </tr>\n",
       "  </tbody>\n",
       "</table>\n",
       "</div>"
      ],
      "text/plain": [
       "                           ApplicationId                  Name  \\\n",
       "5   89f0ed2e-3148-4bf7-971b-f912f9e2563f            EWS Canary   \n",
       "56  d4e2e991-413e-47b0-9ef1-979959f38de8  PermissionViewer-PoC   \n",
       "63  b241900b-5e97-4a3f-931d-ec16709148a4             SPFx-Demo   \n",
       "\n",
       "             Created Date           Last Signin  \\\n",
       "5     4/8/2025 2:58:00 PM  4/16/2025 4:57:30 PM   \n",
       "56  12/13/2021 2:00:32 PM                   NaN   \n",
       "63   6/24/2020 2:18:46 PM                   NaN   \n",
       "\n",
       "                                    Entra Portal Link  \n",
       "5   https://entra.microsoft.com/#view/Microsoft_AA...  \n",
       "56  https://entra.microsoft.com/#view/Microsoft_AA...  \n",
       "63  https://entra.microsoft.com/#view/Microsoft_AA...  "
      ]
     },
     "execution_count": 90,
     "metadata": {},
     "output_type": "execute_result"
    }
   ],
   "source": [
    "# Create a filtered DataFrame of app registrations using specified columns and filter for 'Uses EWS' == True\n",
    "all_apps = app_usage_df[app_usage_df['UsesEws']][[\n",
    "    'appId', 'displayName', 'createdDateTime', 'LastSignIn', 'EntraLink'\n",
    "]]\n",
    "# Rename columns as requested\n",
    "all_apps = all_apps.rename(columns={\n",
    "    'appId': 'ApplicationId',\n",
    "    'displayName': 'Name',\n",
    "    'UsesEws': 'Uses EWS',\n",
    "    'createdDateTime': 'Created Date',\n",
    "    'LastSignIn': 'Last Signin',\n",
    "    'EntraLink': 'Entra Portal Link'\n",
    "})\n",
    "all_apps"
   ]
  },
  {
   "cell_type": "markdown",
   "id": "d0bb6400",
   "metadata": {},
   "source": [
    "## List of all Applications\n",
    "\n",
    "The code below will produce a list of all registered applications on the tenant including those with EWS permissions. The list can be exported to Excel for sharing and further analysis."
   ]
  },
  {
   "cell_type": "code",
   "execution_count": 91,
   "id": "b03f544e",
   "metadata": {},
   "outputs": [
    {
     "data": {
      "application/vnd.microsoft.datawrangler.viewer.v0+json": {
       "columns": [
        {
         "name": "index",
         "rawType": "int64",
         "type": "integer"
        },
        {
         "name": "ApplicationId",
         "rawType": "object",
         "type": "string"
        },
        {
         "name": "Name",
         "rawType": "object",
         "type": "string"
        },
        {
         "name": "Uses EWS",
         "rawType": "bool",
         "type": "boolean"
        },
        {
         "name": "Created Date",
         "rawType": "object",
         "type": "string"
        },
        {
         "name": "Last Signin",
         "rawType": "object",
         "type": "unknown"
        },
        {
         "name": "Entra Portal Link",
         "rawType": "object",
         "type": "string"
        }
       ],
       "ref": "b292dd48-eee7-46be-b5a0-afbdf3b7d225",
       "rows": [
        [
         "0",
         "56fb78e8-5e4f-46e9-ba00-90d5a1c6886c",
         "ews-parity-tracker-sso-aad",
         "False",
         "3/7/2025 2:40:35 AM",
         null,
         "https://entra.microsoft.com/#view/Microsoft_AAD_RegisteredApps/ApplicationMenuBlade/~/Overview/appId/56fb78e8-5e4f-46e9-ba00-90d5a1c6886c"
        ],
        [
         "1",
         "beeb5ccc-77aa-4d27-b885-e01aff73e1fc",
         "M365-PowerShell",
         "False",
         "2/21/2022 11:54:03 PM",
         null,
         "https://entra.microsoft.com/#view/Microsoft_AAD_RegisteredApps/ApplicationMenuBlade/~/Overview/appId/beeb5ccc-77aa-4d27-b885-e01aff73e1fc"
        ],
        [
         "2",
         "7890760a-8714-414f-87c0-fac77fc27497",
         "invoice-helper",
         "False",
         "11/5/2022 1:18:40 PM",
         null,
         "https://entra.microsoft.com/#view/Microsoft_AAD_RegisteredApps/ApplicationMenuBlade/~/Overview/appId/7890760a-8714-414f-87c0-fac77fc27497"
        ],
        [
         "3",
         "b40835bf-8a38-4967-be41-52b564ad9c5f",
         "tmc-deployment",
         "False",
         "7/29/2021 1:55:27 PM",
         null,
         "https://entra.microsoft.com/#view/Microsoft_AAD_RegisteredApps/ApplicationMenuBlade/~/Overview/appId/b40835bf-8a38-4967-be41-52b564ad9c5f"
        ],
        [
         "4",
         "34af47c1-ec48-41f0-8cd6-18001a9c2a25",
         "Power BI Workspace Manager API",
         "False",
         "3/7/2020 10:00:45 PM",
         null,
         "https://entra.microsoft.com/#view/Microsoft_AAD_RegisteredApps/ApplicationMenuBlade/~/Overview/appId/34af47c1-ec48-41f0-8cd6-18001a9c2a25"
        ],
        [
         "5",
         "89f0ed2e-3148-4bf7-971b-f912f9e2563f",
         "EWS Canary",
         "True",
         "4/8/2025 2:58:00 PM",
         "4/16/2025 4:57:30 PM",
         "https://entra.microsoft.com/#view/Microsoft_AAD_RegisteredApps/ApplicationMenuBlade/~/Overview/appId/89f0ed2e-3148-4bf7-971b-f912f9e2563f"
        ],
        [
         "6",
         "d08247f5-5b01-4fde-a5b6-8a4191dbc2bd",
         "sso-tab-aad",
         "False",
         "11/17/2023 3:18:19 PM",
         null,
         "https://entra.microsoft.com/#view/Microsoft_AAD_RegisteredApps/ApplicationMenuBlade/~/Overview/appId/d08247f5-5b01-4fde-a5b6-8a4191dbc2bd"
        ],
        [
         "7",
         "0ac9b767-11bb-44bb-901e-ce94d1c46d68",
         "tmlAksDevSP-20190313213021",
         "False",
         "3/14/2019 1:30:25 AM",
         null,
         "https://entra.microsoft.com/#view/Microsoft_AAD_RegisteredApps/ApplicationMenuBlade/~/Overview/appId/0ac9b767-11bb-44bb-901e-ce94d1c46d68"
        ],
        [
         "8",
         "f0c3d114-28d1-45c8-b180-2c13e5d9cbe3",
         "tmc-iac-core-sp",
         "False",
         "7/29/2021 3:21:19 PM",
         null,
         "https://entra.microsoft.com/#view/Microsoft_AAD_RegisteredApps/ApplicationMenuBlade/~/Overview/appId/f0c3d114-28d1-45c8-b180-2c13e5d9cbe3"
        ],
        [
         "9",
         "df17ca47-6d5e-4ea8-83a5-3d08d32d6027",
         "tab-app-01-aad",
         "False",
         "3/10/2025 4:02:11 AM",
         null,
         "https://entra.microsoft.com/#view/Microsoft_AAD_RegisteredApps/ApplicationMenuBlade/~/Overview/appId/df17ca47-6d5e-4ea8-83a5-3d08d32d6027"
        ],
        [
         "10",
         "c1f22df1-147d-4165-8d9e-4e4fc9482f5a",
         "Teams Tab App Template",
         "False",
         "11/9/2023 4:39:26 PM",
         null,
         "https://entra.microsoft.com/#view/Microsoft_AAD_RegisteredApps/ApplicationMenuBlade/~/Overview/appId/c1f22df1-147d-4165-8d9e-4e4fc9482f5a"
        ],
        [
         "11",
         "2e9fcfe1-40ef-4398-a882-2238f7611199",
         "boardy",
         "False",
         "6/24/2020 4:42:09 PM",
         null,
         "https://entra.microsoft.com/#view/Microsoft_AAD_RegisteredApps/ApplicationMenuBlade/~/Overview/appId/2e9fcfe1-40ef-4398-a882-2238f7611199"
        ],
        [
         "12",
         "63729bf2-b187-4f25-92f1-bd2b83c989ff",
         "tmc-core-sp",
         "False",
         "7/29/2021 3:56:42 PM",
         null,
         "https://entra.microsoft.com/#view/Microsoft_AAD_RegisteredApps/ApplicationMenuBlade/~/Overview/appId/63729bf2-b187-4f25-92f1-bd2b83c989ff"
        ],
        [
         "13",
         "dd62e2ab-b76c-4564-a718-b2506864a1fd",
         "provbot",
         "False",
         "11/7/2019 9:34:24 PM",
         null,
         "https://entra.microsoft.com/#view/Microsoft_AAD_RegisteredApps/ApplicationMenuBlade/~/Overview/appId/dd62e2ab-b76c-4564-a718-b2506864a1fd"
        ],
        [
         "14",
         "64c48367-0fe1-4f1c-a038-1fc434cdfa47",
         "MBAG.SPO.PermissionViewer",
         "False",
         "3/26/2022 3:46:50 PM",
         null,
         "https://entra.microsoft.com/#view/Microsoft_AAD_RegisteredApps/ApplicationMenuBlade/~/Overview/appId/64c48367-0fe1-4f1c-a038-1fc434cdfa47"
        ],
        [
         "15",
         "9d71ca80-6407-4759-9a00-048ed68b3992",
         "Workspace Manager Client - No Permissions",
         "False",
         "3/7/2020 10:13:37 PM",
         null,
         "https://entra.microsoft.com/#view/Microsoft_AAD_RegisteredApps/ApplicationMenuBlade/~/Overview/appId/9d71ca80-6407-4759-9a00-048ed68b3992"
        ],
        [
         "16",
         "287c1ee4-70a2-4665-b9be-603cd0c648a7",
         "traderJarvis",
         "False",
         "4/20/2021 4:07:17 PM",
         null,
         "https://entra.microsoft.com/#view/Microsoft_AAD_RegisteredApps/ApplicationMenuBlade/~/Overview/appId/287c1ee4-70a2-4665-b9be-603cd0c648a7"
        ],
        [
         "17",
         "a9b5c4ed-f57b-4aed-8450-ab6753476450",
         "tmech-spfx01",
         "False",
         "6/24/2020 2:50:50 PM",
         null,
         "https://entra.microsoft.com/#view/Microsoft_AAD_RegisteredApps/ApplicationMenuBlade/~/Overview/appId/a9b5c4ed-f57b-4aed-8450-ab6753476450"
        ],
        [
         "18",
         "0e689785-34c4-4c3b-8f93-18be3a21f84d",
         "doc-assembly",
         "False",
         "9/8/2024 9:09:00 PM",
         null,
         "https://entra.microsoft.com/#view/Microsoft_AAD_RegisteredApps/ApplicationMenuBlade/~/Overview/appId/0e689785-34c4-4c3b-8f93-18be3a21f84d"
        ],
        [
         "19",
         "858a472d-d885-42a4-8bf4-88f0db1baaff",
         "tmechLabs-Trading-14ed7700-05e9-4352-a90e-d3701bf0996e",
         "False",
         "7/28/2021 5:14:44 PM",
         null,
         "https://entra.microsoft.com/#view/Microsoft_AAD_RegisteredApps/ApplicationMenuBlade/~/Overview/appId/858a472d-d885-42a4-8bf4-88f0db1baaff"
        ],
        [
         "20",
         "27033112-d7c5-4abf-bd36-1d12cea9175d",
         "sso-tab-aad",
         "False",
         "11/7/2023 7:56:29 PM",
         null,
         "https://entra.microsoft.com/#view/Microsoft_AAD_RegisteredApps/ApplicationMenuBlade/~/Overview/appId/27033112-d7c5-4abf-bd36-1d12cea9175d"
        ],
        [
         "21",
         "44b59ea5-a2b5-4081-ac37-e2c779d0c61b",
         "da-plugin-03-aad",
         "False",
         "3/9/2025 4:44:40 PM",
         null,
         "https://entra.microsoft.com/#view/Microsoft_AAD_RegisteredApps/ApplicationMenuBlade/~/Overview/appId/44b59ea5-a2b5-4081-ac37-e2c779d0c61b"
        ],
        [
         "22",
         "bc9033bb-330b-4eba-ab09-1c2b7dcf725c",
         "sp-aks-tmc-poc",
         "False",
         "7/27/2021 11:51:51 AM",
         null,
         "https://entra.microsoft.com/#view/Microsoft_AAD_RegisteredApps/ApplicationMenuBlade/~/Overview/appId/bc9033bb-330b-4eba-ab09-1c2b7dcf725c"
        ],
        [
         "23",
         "b2e49ebe-20d1-47e2-9821-e42b619ffb66",
         "tmechLabs-Trading-c00ca1f3-2fb9-4023-8eed-079e6eab7dcf",
         "False",
         "7/28/2021 5:13:08 PM",
         null,
         "https://entra.microsoft.com/#view/Microsoft_AAD_RegisteredApps/ApplicationMenuBlade/~/Overview/appId/b2e49ebe-20d1-47e2-9821-e42b619ffb66"
        ],
        [
         "24",
         "ce9a78da-5c50-439e-8bed-61f62af2ecb4",
         "tml-sig-demo",
         "False",
         "12/18/2021 8:48:41 PM",
         null,
         "https://entra.microsoft.com/#view/Microsoft_AAD_RegisteredApps/ApplicationMenuBlade/~/Overview/appId/ce9a78da-5c50-439e-8bed-61f62af2ecb4"
        ],
        [
         "25",
         "e47eb416-672b-4f78-9ffb-d3a5116c76f6",
         "SIG-Demo",
         "False",
         "12/18/2021 8:22:58 PM",
         null,
         "https://entra.microsoft.com/#view/Microsoft_AAD_RegisteredApps/ApplicationMenuBlade/~/Overview/appId/e47eb416-672b-4f78-9ffb-d3a5116c76f6"
        ],
        [
         "26",
         "6a3182ec-3f81-4cb9-9219-1235c852f06a",
         "sso-tab-aad",
         "False",
         "11/7/2023 1:27:41 PM",
         null,
         "https://entra.microsoft.com/#view/Microsoft_AAD_RegisteredApps/ApplicationMenuBlade/~/Overview/appId/6a3182ec-3f81-4cb9-9219-1235c852f06a"
        ],
        [
         "27",
         "e96eb85d-de38-4f33-90e4-7868ebe8218b",
         "poc-sso",
         "False",
         "9/8/2024 10:46:13 PM",
         null,
         "https://entra.microsoft.com/#view/Microsoft_AAD_RegisteredApps/ApplicationMenuBlade/~/Overview/appId/e96eb85d-de38-4f33-90e4-7868ebe8218b"
        ],
        [
         "28",
         "4ed9d852-04fb-46f3-a82c-95aa22873cdc",
         "M365-Extension-Deployment",
         "False",
         "12/20/2021 11:48:36 PM",
         null,
         "https://entra.microsoft.com/#view/Microsoft_AAD_RegisteredApps/ApplicationMenuBlade/~/Overview/appId/4ed9d852-04fb-46f3-a82c-95aa22873cdc"
        ],
        [
         "29",
         "d709253c-4d04-4a82-bb2f-61c168717222",
         "PowerBI Workspace Manager Client - Global Admin",
         "False",
         "3/7/2020 10:06:05 PM",
         null,
         "https://entra.microsoft.com/#view/Microsoft_AAD_RegisteredApps/ApplicationMenuBlade/~/Overview/appId/d709253c-4d04-4a82-bb2f-61c168717222"
        ],
        [
         "30",
         "8311a8ab-3c01-4a3a-acbc-0133082b42b0",
         "TodoList-webapi-daemon-v2",
         "False",
         "3/8/2020 9:42:09 PM",
         null,
         "https://entra.microsoft.com/#view/Microsoft_AAD_RegisteredApps/ApplicationMenuBlade/~/Overview/appId/8311a8ab-3c01-4a3a-acbc-0133082b42b0"
        ],
        [
         "31",
         "7c12fbf1-0516-434a-88d7-f36e3e06b2ba",
         "tmc_Jarvis",
         "False",
         "4/14/2021 8:23:24 PM",
         null,
         "https://entra.microsoft.com/#view/Microsoft_AAD_RegisteredApps/ApplicationMenuBlade/~/Overview/appId/7c12fbf1-0516-434a-88d7-f36e3e06b2ba"
        ],
        [
         "32",
         "4baf8813-aa8e-470d-ae52-1c53348d123c",
         "M365AuditLogReader",
         "False",
         "4/8/2025 3:51:03 AM",
         null,
         "https://entra.microsoft.com/#view/Microsoft_AAD_RegisteredApps/ApplicationMenuBlade/~/Overview/appId/4baf8813-aa8e-470d-ae52-1c53348d123c"
        ],
        [
         "33",
         "82313e96-ac5f-499b-9f45-fb570b1e97ac",
         "ChartExpo™ for Excel",
         "False",
         "10/22/2022 12:31:09 PM",
         null,
         "https://entra.microsoft.com/#view/Microsoft_AAD_RegisteredApps/ApplicationMenuBlade/~/Overview/appId/82313e96-ac5f-499b-9f45-fb570b1e97ac"
        ],
        [
         "34",
         "30fbfae5-3fd8-4ed6-8bb3-4f672f0afdfd",
         "da-tracker-01-aad",
         "False",
         "3/8/2025 5:23:27 PM",
         null,
         "https://entra.microsoft.com/#view/Microsoft_AAD_RegisteredApps/ApplicationMenuBlade/~/Overview/appId/30fbfae5-3fd8-4ed6-8bb3-4f672f0afdfd"
        ],
        [
         "35",
         "fed10332-a49f-4538-9192-9f8506ac098e",
         "WebApplication1",
         "False",
         "3/28/2020 1:09:35 PM",
         null,
         "https://entra.microsoft.com/#view/Microsoft_AAD_RegisteredApps/ApplicationMenuBlade/~/Overview/appId/fed10332-a49f-4538-9192-9f8506ac098e"
        ],
        [
         "36",
         "956a8cb6-5dea-4907-b628-757ced8caacf",
         "Industry Datasets PoC",
         "False",
         "10/5/2023 5:39:38 PM",
         null,
         "https://entra.microsoft.com/#view/Microsoft_AAD_RegisteredApps/ApplicationMenuBlade/~/Overview/appId/956a8cb6-5dea-4907-b628-757ced8caacf"
        ],
        [
         "37",
         "27c1a403-dec7-4dee-bc60-9c531dee2b4d",
         "tmc-iac-core+-sp",
         "False",
         "7/29/2021 2:34:57 PM",
         null,
         "https://entra.microsoft.com/#view/Microsoft_AAD_RegisteredApps/ApplicationMenuBlade/~/Overview/appId/27c1a403-dec7-4dee-bc60-9c531dee2b4d"
        ],
        [
         "38",
         "971b6053-5d68-49f0-845e-1eeb0291bea7",
         "ews-parity-tracker-sso-aad",
         "False",
         "3/7/2025 2:02:19 AM",
         null,
         "https://entra.microsoft.com/#view/Microsoft_AAD_RegisteredApps/ApplicationMenuBlade/~/Overview/appId/971b6053-5d68-49f0-845e-1eeb0291bea7"
        ],
        [
         "39",
         "589703ce-869f-4bc7-a95f-8706f3fcd2fe",
         "Graph .NET quick start",
         "False",
         "10/30/2024 3:55:33 PM",
         null,
         "https://entra.microsoft.com/#view/Microsoft_AAD_RegisteredApps/ApplicationMenuBlade/~/Overview/appId/589703ce-869f-4bc7-a95f-8706f3fcd2fe"
        ],
        [
         "40",
         "23204355-b1da-4d2d-bb7a-bc0d5540ce25",
         "tire-kicker-aad",
         "False",
         "10/23/2023 11:55:22 PM",
         null,
         "https://entra.microsoft.com/#view/Microsoft_AAD_RegisteredApps/ApplicationMenuBlade/~/Overview/appId/23204355-b1da-4d2d-bb7a-bc0d5540ce25"
        ],
        [
         "41",
         "6f2be67a-71d2-4e93-80cb-7554b566cbb4",
         "tmechLabs-Trading-c00ca1f3-2fb9-4023-8eed-079e6eab7dcf",
         "False",
         "7/19/2021 10:21:39 AM",
         null,
         "https://entra.microsoft.com/#view/Microsoft_AAD_RegisteredApps/ApplicationMenuBlade/~/Overview/appId/6f2be67a-71d2-4e93-80cb-7554b566cbb4"
        ],
        [
         "42",
         "9c24b18a-b5d0-43ad-b81d-754285f21627",
         "sp-tracker-plugin-aad",
         "False",
         "3/8/2025 4:14:30 PM",
         null,
         "https://entra.microsoft.com/#view/Microsoft_AAD_RegisteredApps/ApplicationMenuBlade/~/Overview/appId/9c24b18a-b5d0-43ad-b81d-754285f21627"
        ],
        [
         "43",
         "cd1081de-98bf-4486-a248-9f504b5cca10",
         "azure-cli-2021-07-28-20-15-25",
         "False",
         "7/28/2021 8:15:24 PM",
         null,
         "https://entra.microsoft.com/#view/Microsoft_AAD_RegisteredApps/ApplicationMenuBlade/~/Overview/appId/cd1081de-98bf-4486-a248-9f504b5cca10"
        ],
        [
         "44",
         "1a9eec9d-7a00-4a3f-9ce1-a30c0ebcd1e0",
         "provbot",
         "False",
         "11/7/2019 10:14:32 PM",
         null,
         "https://entra.microsoft.com/#view/Microsoft_AAD_RegisteredApps/ApplicationMenuBlade/~/Overview/appId/1a9eec9d-7a00-4a3f-9ce1-a30c0ebcd1e0"
        ],
        [
         "45",
         "8876b891-b7eb-44a3-9bc7-ad9241790fa0",
         "tmechlabs-databricks-dev-sp",
         "False",
         "3/21/2023 3:58:46 PM",
         null,
         "https://entra.microsoft.com/#view/Microsoft_AAD_RegisteredApps/ApplicationMenuBlade/~/Overview/appId/8876b891-b7eb-44a3-9bc7-ad9241790fa0"
        ],
        [
         "46",
         "8dee9b4e-7eb1-4aa9-8a89-744eb4fbf89d",
         "SharePoint Online Client Extensibility Web Application Principal",
         "False",
         "10/2/2018 5:38:09 PM",
         null,
         "https://entra.microsoft.com/#view/Microsoft_AAD_RegisteredApps/ApplicationMenuBlade/~/Overview/appId/8dee9b4e-7eb1-4aa9-8a89-744eb4fbf89d"
        ],
        [
         "47",
         "e027601a-863c-477e-86f9-b1d3d5bfc0f5",
         "tmechLabs-Trading-c00ca1f3-2fb9-4023-8eed-079e6eab7dcf",
         "False",
         "8/3/2021 5:43:19 PM",
         null,
         "https://entra.microsoft.com/#view/Microsoft_AAD_RegisteredApps/ApplicationMenuBlade/~/Overview/appId/e027601a-863c-477e-86f9-b1d3d5bfc0f5"
        ],
        [
         "48",
         "57d26b35-2701-444d-8905-56fd816134d6",
         "Demos in Teams",
         "False",
         "12/3/2023 6:55:38 PM",
         null,
         "https://entra.microsoft.com/#view/Microsoft_AAD_RegisteredApps/ApplicationMenuBlade/~/Overview/appId/57d26b35-2701-444d-8905-56fd816134d6"
        ],
        [
         "49",
         "88f474f5-4a2c-45a2-9c6a-8f4afd39c32f",
         "Trade Helix",
         "False",
         "11/23/2021 11:18:12 AM",
         null,
         "https://entra.microsoft.com/#view/Microsoft_AAD_RegisteredApps/ApplicationMenuBlade/~/Overview/appId/88f474f5-4a2c-45a2-9c6a-8f4afd39c32f"
        ]
       ],
       "shape": {
        "columns": 6,
        "rows": 74
       }
      },
      "text/html": [
       "<div>\n",
       "<style scoped>\n",
       "    .dataframe tbody tr th:only-of-type {\n",
       "        vertical-align: middle;\n",
       "    }\n",
       "\n",
       "    .dataframe tbody tr th {\n",
       "        vertical-align: top;\n",
       "    }\n",
       "\n",
       "    .dataframe thead th {\n",
       "        text-align: right;\n",
       "    }\n",
       "</style>\n",
       "<table border=\"1\" class=\"dataframe\">\n",
       "  <thead>\n",
       "    <tr style=\"text-align: right;\">\n",
       "      <th></th>\n",
       "      <th>ApplicationId</th>\n",
       "      <th>Name</th>\n",
       "      <th>Uses EWS</th>\n",
       "      <th>Created Date</th>\n",
       "      <th>Last Signin</th>\n",
       "      <th>Entra Portal Link</th>\n",
       "    </tr>\n",
       "  </thead>\n",
       "  <tbody>\n",
       "    <tr>\n",
       "      <th>0</th>\n",
       "      <td>56fb78e8-5e4f-46e9-ba00-90d5a1c6886c</td>\n",
       "      <td>ews-parity-tracker-sso-aad</td>\n",
       "      <td>False</td>\n",
       "      <td>3/7/2025 2:40:35 AM</td>\n",
       "      <td>NaN</td>\n",
       "      <td>https://entra.microsoft.com/#view/Microsoft_AA...</td>\n",
       "    </tr>\n",
       "    <tr>\n",
       "      <th>1</th>\n",
       "      <td>beeb5ccc-77aa-4d27-b885-e01aff73e1fc</td>\n",
       "      <td>M365-PowerShell</td>\n",
       "      <td>False</td>\n",
       "      <td>2/21/2022 11:54:03 PM</td>\n",
       "      <td>NaN</td>\n",
       "      <td>https://entra.microsoft.com/#view/Microsoft_AA...</td>\n",
       "    </tr>\n",
       "    <tr>\n",
       "      <th>2</th>\n",
       "      <td>7890760a-8714-414f-87c0-fac77fc27497</td>\n",
       "      <td>invoice-helper</td>\n",
       "      <td>False</td>\n",
       "      <td>11/5/2022 1:18:40 PM</td>\n",
       "      <td>NaN</td>\n",
       "      <td>https://entra.microsoft.com/#view/Microsoft_AA...</td>\n",
       "    </tr>\n",
       "    <tr>\n",
       "      <th>3</th>\n",
       "      <td>b40835bf-8a38-4967-be41-52b564ad9c5f</td>\n",
       "      <td>tmc-deployment</td>\n",
       "      <td>False</td>\n",
       "      <td>7/29/2021 1:55:27 PM</td>\n",
       "      <td>NaN</td>\n",
       "      <td>https://entra.microsoft.com/#view/Microsoft_AA...</td>\n",
       "    </tr>\n",
       "    <tr>\n",
       "      <th>4</th>\n",
       "      <td>34af47c1-ec48-41f0-8cd6-18001a9c2a25</td>\n",
       "      <td>Power BI Workspace Manager API</td>\n",
       "      <td>False</td>\n",
       "      <td>3/7/2020 10:00:45 PM</td>\n",
       "      <td>NaN</td>\n",
       "      <td>https://entra.microsoft.com/#view/Microsoft_AA...</td>\n",
       "    </tr>\n",
       "    <tr>\n",
       "      <th>...</th>\n",
       "      <td>...</td>\n",
       "      <td>...</td>\n",
       "      <td>...</td>\n",
       "      <td>...</td>\n",
       "      <td>...</td>\n",
       "      <td>...</td>\n",
       "    </tr>\n",
       "    <tr>\n",
       "      <th>69</th>\n",
       "      <td>cd4ec484-1ba4-4965-8af0-c7c2f46c86c2</td>\n",
       "      <td>sso-tab-aad</td>\n",
       "      <td>False</td>\n",
       "      <td>11/7/2023 4:17:48 PM</td>\n",
       "      <td>NaN</td>\n",
       "      <td>https://entra.microsoft.com/#view/Microsoft_AA...</td>\n",
       "    </tr>\n",
       "    <tr>\n",
       "      <th>70</th>\n",
       "      <td>2b0f5d12-e1e9-4afd-94bb-c538d39cc728</td>\n",
       "      <td>SharePoint Online Client Extensibility Web App...</td>\n",
       "      <td>False</td>\n",
       "      <td>11/26/2021 4:38:33 PM</td>\n",
       "      <td>NaN</td>\n",
       "      <td>https://entra.microsoft.com/#view/Microsoft_AA...</td>\n",
       "    </tr>\n",
       "    <tr>\n",
       "      <th>71</th>\n",
       "      <td>bc64a8bd-3be1-4460-b197-8b85c311c309</td>\n",
       "      <td>tml-sig-demo01</td>\n",
       "      <td>False</td>\n",
       "      <td>12/18/2021 8:57:21 PM</td>\n",
       "      <td>NaN</td>\n",
       "      <td>https://entra.microsoft.com/#view/Microsoft_AA...</td>\n",
       "    </tr>\n",
       "    <tr>\n",
       "      <th>72</th>\n",
       "      <td>f955c935-fcf8-48c9-ab28-c459a231da28</td>\n",
       "      <td>sso-tab-aad</td>\n",
       "      <td>False</td>\n",
       "      <td>10/24/2023 6:47:25 PM</td>\n",
       "      <td>NaN</td>\n",
       "      <td>https://entra.microsoft.com/#view/Microsoft_AA...</td>\n",
       "    </tr>\n",
       "    <tr>\n",
       "      <th>73</th>\n",
       "      <td>d5a1b747-83b9-418c-a447-11f975e82843</td>\n",
       "      <td>Teams Permission Test</td>\n",
       "      <td>False</td>\n",
       "      <td>11/7/2023 3:43:03 PM</td>\n",
       "      <td>NaN</td>\n",
       "      <td>https://entra.microsoft.com/#view/Microsoft_AA...</td>\n",
       "    </tr>\n",
       "  </tbody>\n",
       "</table>\n",
       "<p>74 rows × 6 columns</p>\n",
       "</div>"
      ],
      "text/plain": [
       "                           ApplicationId  \\\n",
       "0   56fb78e8-5e4f-46e9-ba00-90d5a1c6886c   \n",
       "1   beeb5ccc-77aa-4d27-b885-e01aff73e1fc   \n",
       "2   7890760a-8714-414f-87c0-fac77fc27497   \n",
       "3   b40835bf-8a38-4967-be41-52b564ad9c5f   \n",
       "4   34af47c1-ec48-41f0-8cd6-18001a9c2a25   \n",
       "..                                   ...   \n",
       "69  cd4ec484-1ba4-4965-8af0-c7c2f46c86c2   \n",
       "70  2b0f5d12-e1e9-4afd-94bb-c538d39cc728   \n",
       "71  bc64a8bd-3be1-4460-b197-8b85c311c309   \n",
       "72  f955c935-fcf8-48c9-ab28-c459a231da28   \n",
       "73  d5a1b747-83b9-418c-a447-11f975e82843   \n",
       "\n",
       "                                                 Name  Uses EWS  \\\n",
       "0                          ews-parity-tracker-sso-aad     False   \n",
       "1                                     M365-PowerShell     False   \n",
       "2                                      invoice-helper     False   \n",
       "3                                      tmc-deployment     False   \n",
       "4                      Power BI Workspace Manager API     False   \n",
       "..                                                ...       ...   \n",
       "69                                        sso-tab-aad     False   \n",
       "70  SharePoint Online Client Extensibility Web App...     False   \n",
       "71                                     tml-sig-demo01     False   \n",
       "72                                        sso-tab-aad     False   \n",
       "73                              Teams Permission Test     False   \n",
       "\n",
       "             Created Date Last Signin  \\\n",
       "0     3/7/2025 2:40:35 AM         NaN   \n",
       "1   2/21/2022 11:54:03 PM         NaN   \n",
       "2    11/5/2022 1:18:40 PM         NaN   \n",
       "3    7/29/2021 1:55:27 PM         NaN   \n",
       "4    3/7/2020 10:00:45 PM         NaN   \n",
       "..                    ...         ...   \n",
       "69   11/7/2023 4:17:48 PM         NaN   \n",
       "70  11/26/2021 4:38:33 PM         NaN   \n",
       "71  12/18/2021 8:57:21 PM         NaN   \n",
       "72  10/24/2023 6:47:25 PM         NaN   \n",
       "73   11/7/2023 3:43:03 PM         NaN   \n",
       "\n",
       "                                    Entra Portal Link  \n",
       "0   https://entra.microsoft.com/#view/Microsoft_AA...  \n",
       "1   https://entra.microsoft.com/#view/Microsoft_AA...  \n",
       "2   https://entra.microsoft.com/#view/Microsoft_AA...  \n",
       "3   https://entra.microsoft.com/#view/Microsoft_AA...  \n",
       "4   https://entra.microsoft.com/#view/Microsoft_AA...  \n",
       "..                                                ...  \n",
       "69  https://entra.microsoft.com/#view/Microsoft_AA...  \n",
       "70  https://entra.microsoft.com/#view/Microsoft_AA...  \n",
       "71  https://entra.microsoft.com/#view/Microsoft_AA...  \n",
       "72  https://entra.microsoft.com/#view/Microsoft_AA...  \n",
       "73  https://entra.microsoft.com/#view/Microsoft_AA...  \n",
       "\n",
       "[74 rows x 6 columns]"
      ]
     },
     "execution_count": 91,
     "metadata": {},
     "output_type": "execute_result"
    }
   ],
   "source": [
    "# Create a filtered DataFrame of app registrations using specified columns and filter for 'Uses EWS' == True\n",
    "all_apps = app_usage_df[[\n",
    "    'appId', 'displayName', 'UsesEws', 'createdDateTime', 'LastSignIn', 'EntraLink'\n",
    "]]\n",
    "# Rename columns as requested\n",
    "all_apps = all_apps.rename(columns={\n",
    "    'appId': 'ApplicationId',\n",
    "    'displayName': 'Name',\n",
    "    'UsesEws': 'Uses EWS',\n",
    "    'createdDateTime': 'Created Date',\n",
    "    'LastSignIn': 'Last Signin',\n",
    "    'EntraLink': 'Entra Portal Link'\n",
    "})\n",
    "all_apps"
   ]
  }
 ],
 "metadata": {
  "kernelspec": {
   "display_name": "Python 3",
   "language": "python",
   "name": "python3"
  },
  "language_info": {
   "codemirror_mode": {
    "name": "ipython",
    "version": 3
   },
   "file_extension": ".py",
   "mimetype": "text/x-python",
   "name": "python",
   "nbconvert_exporter": "python",
   "pygments_lexer": "ipython3",
   "version": "3.13.1"
  },
  "polyglot_notebook": {
   "kernelInfo": {
    "defaultKernelName": "csharp",
    "items": [
     {
      "aliases": [],
      "name": "csharp"
     },
     {
      "aliases": [],
      "languageName": "javascript",
      "name": "javascript"
     }
    ]
   }
  }
 },
 "nbformat": 4,
 "nbformat_minor": 5
}
