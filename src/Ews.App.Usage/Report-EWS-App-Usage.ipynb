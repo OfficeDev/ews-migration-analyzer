{
 "cells": [
  {
   "cell_type": "markdown",
   "id": "bfbe5c95",
   "metadata": {},
   "source": [
    "# EWS Application Usage Report\n",
    "\n",
    "Exchange Web Services (EWS) will be shut down in October 2026. Until then all applications using EWS must be transitioned to Graph API or an alternative solution. This report will identify the applications with EWS API permissions in your tenant and indicate whether the App has been used recently based on the signin auditlog.\n",
    "\n",
    "Microsoft recommends initiating"
   ]
  },
  {
   "cell_type": "code",
   "execution_count": 13,
   "id": "e834b798",
   "metadata": {},
   "outputs": [
    {
     "name": "stdout",
     "output_type": "stream",
     "text": [
      "Requirement already satisfied: matplotlib in c:\\users\\tmechelke\\appdata\\local\\programs\\python\\python313\\lib\\site-packages (3.10.1)\n",
      "Requirement already satisfied: pandas in c:\\users\\tmechelke\\appdata\\local\\programs\\python\\python313\\lib\\site-packages (2.2.3)\n",
      "Requirement already satisfied: numpy in c:\\users\\tmechelke\\appdata\\local\\programs\\python\\python313\\lib\\site-packages (2.2.3)\n",
      "Requirement already satisfied: contourpy>=1.0.1 in c:\\users\\tmechelke\\appdata\\local\\programs\\python\\python313\\lib\\site-packages (from matplotlib) (1.3.2)\n",
      "Requirement already satisfied: cycler>=0.10 in c:\\users\\tmechelke\\appdata\\local\\programs\\python\\python313\\lib\\site-packages (from matplotlib) (0.12.1)\n",
      "Requirement already satisfied: fonttools>=4.22.0 in c:\\users\\tmechelke\\appdata\\local\\programs\\python\\python313\\lib\\site-packages (from matplotlib) (4.57.0)\n",
      "Requirement already satisfied: kiwisolver>=1.3.1 in c:\\users\\tmechelke\\appdata\\local\\programs\\python\\python313\\lib\\site-packages (from matplotlib) (1.4.8)\n",
      "Requirement already satisfied: packaging>=20.0 in c:\\users\\tmechelke\\appdata\\roaming\\python\\python313\\site-packages (from matplotlib) (24.2)\n",
      "Requirement already satisfied: pillow>=8 in c:\\users\\tmechelke\\appdata\\local\\programs\\python\\python313\\lib\\site-packages (from matplotlib) (11.2.1)\n",
      "Requirement already satisfied: pyparsing>=2.3.1 in c:\\users\\tmechelke\\appdata\\local\\programs\\python\\python313\\lib\\site-packages (from matplotlib) (3.2.3)\n",
      "Requirement already satisfied: python-dateutil>=2.7 in c:\\users\\tmechelke\\appdata\\roaming\\python\\python313\\site-packages (from matplotlib) (2.9.0.post0)\n",
      "Requirement already satisfied: pytz>=2020.1 in c:\\users\\tmechelke\\appdata\\local\\programs\\python\\python313\\lib\\site-packages (from pandas) (2025.1)\n",
      "Requirement already satisfied: tzdata>=2022.7 in c:\\users\\tmechelke\\appdata\\local\\programs\\python\\python313\\lib\\site-packages (from pandas) (2025.1)\n",
      "Requirement already satisfied: six>=1.5 in c:\\users\\tmechelke\\appdata\\roaming\\python\\python313\\site-packages (from python-dateutil>=2.7->matplotlib) (1.17.0)\n",
      "Note: you may need to restart the kernel to use updated packages.\n"
     ]
    }
   ],
   "source": [
    "%pip install matplotlib pandas numpy\n"
   ]
  },
  {
   "cell_type": "code",
   "execution_count": 2,
   "id": "0db0c04f",
   "metadata": {},
   "outputs": [
    {
     "name": "stdout",
     "output_type": "stream",
     "text": [
      "Reading settings from ./appsettings.local.json\n",
      "Settings loaded successfully\n"
     ]
    }
   ],
   "source": [
    "import sys\n",
    "\n",
    "sys.path.append(\"./Modules\")\n",
    "import ews_utilities as utils\n",
    "\n",
    "app_settings = utils.get_config()\n",
    "\n",
    "data_folder = app_settings[\"OutputPath\"]\n"
   ]
  },
  {
   "cell_type": "markdown",
   "id": "2c24e67d",
   "metadata": {},
   "source": [
    "## Copy Most Recent Files\n",
    "\n",
    "Copy the most recent files for EwsEntraAppRegistrations, EntraAppRegistrations and AppSigninActivity to a fixed file name to enable downstream reporting to refresh easily."
   ]
  },
  {
   "cell_type": "code",
   "execution_count": 8,
   "id": "747d6a76",
   "metadata": {},
   "outputs": [
    {
     "name": "stdout",
     "output_type": "stream",
     "text": [
      "Copying .\\Usage-Data\\EntraAppRegistrations-20250421123351.csv to .\\Usage-Data\\EntraAppRegistrations.csv\n",
      "Copying .\\Usage-Data\\AppSignInActivity-20250421123358.csv to .\\Usage-Data\\AppSignInActivity.csv\n",
      "Copying .\\Usage-Data\\EWSEntraAppRegistrations-20250421123358.csv to .\\Usage-Data\\EWSEntraAppRegistrations.csv\n"
     ]
    }
   ],
   "source": [
    "import os\n",
    "import glob\n",
    "import csv\n",
    "\n",
    "\n",
    "def get_latest(pattern):\n",
    "    files = glob.glob(os.path.join(data_folder, pattern))\n",
    "    if not files:\n",
    "        return None\n",
    "    return max(files, key=os.path.getmtime)\n",
    "\n",
    "\n",
    "def copy_latest_to_current(pattern):\n",
    "    latest_file = get_latest(pattern)\n",
    "    if latest_file:\n",
    "        base_dir = os.path.dirname(latest_file)\n",
    "        base_name = os.path.basename(latest_file)\n",
    "        # Extract file prefix before the timestamp\n",
    "        prefix = base_name.split('-')[0]\n",
    "        # Create new filename\n",
    "        new_filename = f\"{prefix}.csv\"\n",
    "        new_filepath = os.path.join(base_dir, new_filename)\n",
    "\n",
    "        print(f\"Copying {latest_file} to {new_filepath}\")\n",
    "\n",
    "        # Copy the file content\n",
    "        with open(latest_file, 'rb') as src, open(new_filepath, 'wb') as dst:\n",
    "            dst.write(src.read())\n",
    "        return new_filepath\n",
    "    return None\n",
    "\n",
    "# Copy the latest files to versions\n",
    "entra_file = copy_latest_to_current(\"EntraAppRegistrations-*.csv\")\n",
    "signin_file = copy_latest_to_current(\"AppSigninActivity-*.csv\")\n",
    "ews_file = copy_latest_to_current(\"EWSEntraAppRegistrations-*.csv\")\n"
   ]
  },
  {
   "cell_type": "markdown",
   "id": "e32404b0",
   "metadata": {},
   "source": [
    "## Merge App Registrations and Signin Data\n",
    "\n",
    "The code below merges the app registration data for EWS applications with the signin data. The resulting data will be saved to the CSV file"
   ]
  },
  {
   "cell_type": "code",
   "execution_count": 9,
   "id": "91a8a2b3",
   "metadata": {},
   "outputs": [],
   "source": [
    "\n",
    "#entra_file = get_latest(\"EntraAppRegistrations.csv\")\n",
    "#signin_file = get_latest(\"AppSigninActivity.csv\")\n",
    "#ews_file = get_latest(\"EWSEntraAppRegistrations.csv\")\n",
    "\n",
    "# Load EntraAppRegistrations\n",
    "entra_apps = {}\n",
    "with open(entra_file, newline=\"\", encoding=\"utf-8\") as f:\n",
    "    reader = csv.DictReader(f)\n",
    "    for row in reader:\n",
    "        entra_apps[row[\"appId\"]] = row\n",
    "\n",
    "# Load EWS-EntraAppRegistrations appids\n",
    "ews_appids = set()\n",
    "with open(ews_file, newline=\"\", encoding=\"utf-8\") as f:\n",
    "    reader = csv.DictReader(f)\n",
    "    for row in reader:\n",
    "        ews_appids.add(row[\"ApplicationID\"])\n",
    "\n",
    "# Load App-SignInActivity last sign-in per appId\n",
    "signin_last = {}\n",
    "with open(signin_file, newline=\"\", encoding=\"utf-8\") as f:\n",
    "    reader = csv.DictReader(f)\n",
    "    for row in reader:\n",
    "        appid = row.get(\"AppId\")\n",
    "        dt = row.get(\"LastSignIn\")\n",
    "        if appid and dt:\n",
    "            # Keep the latest sign-in\n",
    "            if appid not in signin_last or dt > signin_last[appid]:\n",
    "                signin_last[appid] = dt\n",
    "            else:\n",
    "                signin_last[appid] = \"\"\n",
    "\n",
    "# Write merged output\n",
    "output_file = os.path.join(data_folder, \"EWSUsage.csv\")\n",
    "with open(output_file, \"w\", newline=\"\", encoding=\"utf-8\") as f:\n",
    "    fieldnames = [\n",
    "        \"appId\",\n",
    "        \"createdDateTime\",\n",
    "        \"displayName\",\n",
    "        \"description\",\n",
    "        \"notes\",\n",
    "        \"UsesEws\",\n",
    "        \"LastSignIn\",\n",
    "        \"EwsStatus\",\n",
    "        \"EntraLink\",\n",
    "    ]\n",
    "    writer = csv.DictWriter(f, fieldnames=fieldnames)\n",
    "    writer.writeheader()\n",
    "    for appid, row in entra_apps.items():\n",
    "        uses_ews = str(appid in ews_appids)\n",
    "        last_signin = signin_last.get(appid, \"\")\n",
    "\n",
    "        if uses_ews == \"False\":\n",
    "            ews_status = \"No EWS\"\n",
    "        elif uses_ews == \"True\":\n",
    "            if last_signin != \"None\" and last_signin != \"\":\n",
    "                ews_status = \"Active EWS\"\n",
    "            else:\n",
    "                ews_status = \"Inactive EWS\"\n",
    "\n",
    "        writer.writerow({\n",
    "            \"appId\":\n",
    "            appid,\n",
    "            \"createdDateTime\":\n",
    "            row.get(\"createdDateTime\", \"\"),\n",
    "            \"displayName\":\n",
    "            row.get(\"displayName\", \"\"),\n",
    "            \"description\":\n",
    "            row.get(\"description\", \"\"),\n",
    "            \"notes\":\n",
    "            row.get(\"notes\", \"\"),\n",
    "            \"UsesEws\":\n",
    "            uses_ews,\n",
    "            \"LastSignIn\":\n",
    "            last_signin,\n",
    "            \"EwsStatus\":\n",
    "            ews_status,\n",
    "            \"EntraLink\":\n",
    "            f\"https://entra.microsoft.com/#view/Microsoft_AAD_RegisteredApps/ApplicationMenuBlade/~/Overview/appId/{appid}\",\n",
    "        })\n"
   ]
  },
  {
   "cell_type": "code",
   "execution_count": 10,
   "id": "861c51b0",
   "metadata": {},
   "outputs": [],
   "source": [
    "import pandas as pd\n",
    "\n",
    "app_usage_df = pd.read_csv(output_file, encoding=\"utf-8\")"
   ]
  },
  {
   "cell_type": "markdown",
   "id": "310b0545",
   "metadata": {},
   "source": [
    "## Display Chart of EWS App Registrations vs Other App Registrations\n",
    "\n",
    "This code produces a donut chart comparing the number of registered applications with EWS permissions to those without."
   ]
  },
  {
   "cell_type": "code",
   "execution_count": 14,
   "id": "c177eaf8",
   "metadata": {},
   "outputs": [
    {
     "data": {
      "image/png": "[encoded data removed]",
      "text/plain": [
       "<Figure size 640x480 with 1 Axes>"
      ]
     },
     "metadata": {},
     "output_type": "display_data"
    }
   ],
   "source": [
    "import pandas as pd\n",
    "import matplotlib.pyplot as plt\n",
    "import numpy as np\n",
    "\n",
    "counts = app_usage_df[\"EwsStatus\"].value_counts()\n",
    "\n",
    "# Calculate explode values: explode the smallest wedges (e.g., <8%)\n",
    "explode = []\n",
    "total = counts.sum()\n",
    "for v in counts:\n",
    "    pct = v / total\n",
    "    if pct < 0.08:\n",
    "        explode.append(0.15)  # Explode small wedges\n",
    "    else:\n",
    "        explode.append(0)\n",
    "\n",
    "\n",
    "def autopct_format(pct):\n",
    "    return \"%1.1f%%\" % pct if pct >= 5 else \"\"\n",
    "\n",
    "\n",
    "fig, ax = plt.subplots()\n",
    "wedges, texts, autotexts = ax.pie(\n",
    "    counts,\n",
    "    labels=counts.index,\n",
    "    autopct=autopct_format,\n",
    "    startangle=180,\n",
    "    wedgeprops=dict(width=0.6),\n",
    "    textprops=dict(color=\"black\", fontsize=12),\n",
    "    pctdistance=0.6,\n",
    "    labeldistance=0.9,\n",
    "    explode=explode,\n",
    ")\n",
    "# Move labels for small percentages further out\n",
    "for i, (w, t) in enumerate(zip(wedges, texts)):\n",
    "    pct = counts.iloc[i] / counts.sum()\n",
    "    if pct < 0.02:  # If less than 8%, move label further out\n",
    "        ang = (w.theta2 + w.theta1) / 2\n",
    "        x = np.cos(np.deg2rad(ang))\n",
    "        y = np.sin(np.deg2rad(ang))\n",
    "        t.set_position((1.2 * x, 1.2 * y))  # Move label further out\n",
    "\n",
    "ax.set_title(\"App Registrations by EWS Status\", color=\"black\", fontsize=16)\n",
    "plt.show()\n",
    "# ...existing code..."
   ]
  },
  {
   "cell_type": "code",
   "execution_count": 12,
   "id": "5512b937",
   "metadata": {},
   "outputs": [
    {
     "data": {
      "image/png": "[encoded data removed]",
      "text/plain": [
       "<Figure size 600x300 with 1 Axes>"
      ]
     },
     "metadata": {},
     "output_type": "display_data"
    }
   ],
   "source": [
    "import matplotlib.pyplot as plt\n",
    "\n",
    "# Count total apps with EWS permissions\n",
    "ews_apps_count = app_usage_df[\"UsesEws\"].sum()\n",
    "\n",
    "# Create a figure with white background and hot pink font color\n",
    "fig, ax = plt.subplots(figsize=(6, 3), facecolor=\"white\")\n",
    "ax.set_facecolor(\"white\")\n",
    "ax.axis(\"off\")\n",
    "ax.text(\n",
    "    0.5,\n",
    "    0.5,\n",
    "    f\"{ews_apps_count}\",\n",
    "    fontsize=50,\n",
    "    ha=\"center\",\n",
    "    va=\"center\",\n",
    "    color=\"#007FFF\",  # Hot pink\n",
    ")\n",
    "ax.text(\n",
    "    0.5, 0.2, \"Total EWS Apps\", fontsize=14, ha=\"center\", va=\"center\", color=\"#007FFF\"\n",
    ")\n",
    "plt.show()"
   ]
  },
  {
   "cell_type": "code",
   "execution_count": 13,
   "id": "f4bf9484",
   "metadata": {},
   "outputs": [
    {
     "data": {
      "image/png": "[encoded data removed]",
      "text/plain": [
       "<Figure size 600x300 with 1 Axes>"
      ]
     },
     "metadata": {},
     "output_type": "display_data"
    }
   ],
   "source": [
    "import matplotlib.pyplot as plt\n",
    "\n",
    "# Count total apps with EWS permissions and recent sign-in\n",
    "ews_active_apps_count = app_usage_df[\n",
    "    (app_usage_df[\"UsesEws\"])\n",
    "    & (app_usage_df[\"LastSignIn\"].notna())\n",
    "    & (app_usage_df[\"LastSignIn\"] != \"\")\n",
    "].shape[0]\n",
    "\n",
    "# Create a figure with white background and hot pink font color\n",
    "fig, ax = plt.subplots(figsize=(6, 3), facecolor=\"white\")\n",
    "ax.set_facecolor(\"white\")\n",
    "ax.axis(\"off\")\n",
    "ax.text(\n",
    "    0.5,\n",
    "    0.5,\n",
    "    f\"{ews_active_apps_count}\",\n",
    "    fontsize=50,\n",
    "    ha=\"center\",\n",
    "    va=\"center\",\n",
    "    color=\"#FF1493\",  # Hot pink\n",
    ")\n",
    "ax.text(\n",
    "    0.5, 0.2, \"Active EWS Apps\", fontsize=14, ha=\"center\", va=\"center\", color=\"#FF1493\"\n",
    ")\n",
    "\n",
    "plt.show()"
   ]
  },
  {
   "cell_type": "code",
   "execution_count": null,
   "id": "2e848310",
   "metadata": {},
   "outputs": [],
   "source": [
    "import matplotlib.pyplot as plt\n",
    "\n",
    "# Count total apps with EWS permissions and recent sign-in\n",
    "total_apps_count = app_usage_df.count()[\"appId\"]\n",
    "\n",
    "\n",
    "# Create a figure with white background and hot pink font color\n",
    "fig, ax = plt.subplots(figsize=(6, 3), facecolor=\"white\")\n",
    "ax.set_facecolor(\"white\")\n",
    "ax.axis(\"off\")\n",
    "ax.text(\n",
    "    0.5,\n",
    "    0.5,\n",
    "    f\"{total_apps_count}\",\n",
    "    fontsize=50,\n",
    "    ha=\"center\",\n",
    "    va=\"center\",\n",
    "    color=\"#36454F\",  # Charcoal gray\n",
    ")\n",
    "ax.text(\n",
    "    0.5,\n",
    "    0.2,\n",
    "    \"Total Registered Apps\",\n",
    "    fontsize=14,\n",
    "    ha=\"center\",\n",
    "    va=\"center\",\n",
    "    color=\"#36454F\",\n",
    ")\n",
    "plt.show()"
   ]
  },
  {
   "cell_type": "markdown",
   "id": "801d83d5",
   "metadata": {},
   "source": [
    "## List of Applications with EWS Permissions\n",
    "\n",
    "The code below will produce a list of all EWS applications that had recent signin. The list can be exported to Excel for sharing and further analysis.\n",
    "\n",
    "EWS is deprecated and will be disabled in October 2026 and all applications using EWS at that time will stop functioning. To avoid that, all applications using EWS must be migrated to Microsoft Graph API or an alternative solution."
   ]
  },
  {
   "cell_type": "code",
   "execution_count": null,
   "id": "7920b21b",
   "metadata": {},
   "outputs": [],
   "source": [
    "# Create a filtered DataFrame of app registrations using specified columns and filter for 'Uses EWS' == True\n",
    "all_apps = app_usage_df[app_usage_df[\"UsesEws\"]][\n",
    "    [\"appId\", \"displayName\", \"createdDateTime\", \"LastSignIn\", \"EwsStatus\", \"EntraLink\"]\n",
    "]\n",
    "# Rename columns as requested\n",
    "all_apps = all_apps.rename(\n",
    "    columns={\n",
    "        \"appId\": \"ApplicationId\",\n",
    "        \"displayName\": \"Name\",\n",
    "        \"UsesEws\": \"Uses EWS\",\n",
    "        \"EwsStatus\": \"EWS Status\",\n",
    "        \"createdDateTime\": \"Created Date\",\n",
    "        \"LastSignIn\": \"Last Signin\",\n",
    "        \"EntraLink\": \"Entra Portal Link\",\n",
    "    }\n",
    ")\n",
    "all_apps"
   ]
  },
  {
   "cell_type": "markdown",
   "id": "d0bb6400",
   "metadata": {},
   "source": [
    "## List of all Applications\n",
    "\n",
    "The code below will produce a list of all registered applications on the tenant including those with EWS permissions. The list can be exported to Excel for sharing and further analysis."
   ]
  },
  {
   "cell_type": "code",
   "execution_count": null,
   "id": "b03f544e",
   "metadata": {},
   "outputs": [],
   "source": [
    "# Create a filtered DataFrame of app registrations using specified columns and filter for 'Uses EWS' == True\n",
    "all_apps = app_usage_df[\n",
    "    [\n",
    "        \"appId\",\n",
    "        \"displayName\",\n",
    "        \"UsesEws\",\n",
    "        \"EwsStatus\",\n",
    "        \"createdDateTime\",\n",
    "        \"LastSignIn\",\n",
    "        \"EntraLink\",\n",
    "    ]\n",
    "]\n",
    "# Rename columns as requested\n",
    "all_apps = all_apps.rename(\n",
    "    columns={\n",
    "        \"appId\": \"ApplicationId\",\n",
    "        \"displayName\": \"Name\",\n",
    "        \"UsesEws\": \"Uses EWS\",\n",
    "        \"EwsStatus\": \"EWS Status\",\n",
    "        \"createdDateTime\": \"Created Date\",\n",
    "        \"LastSignIn\": \"Last Signin\",\n",
    "        \"EntraLink\": \"Entra Portal Link\",\n",
    "    }\n",
    ")\n",
    "all_apps"
   ]
  }
 ],
 "metadata": {
  "kernelspec": {
   "display_name": "Python 3",
   "language": "python",
   "name": "python3"
  },
  "language_info": {
   "codemirror_mode": {
    "name": "ipython",
    "version": 3
   },
   "file_extension": ".py",
   "mimetype": "text/x-python",
   "name": "python",
   "nbconvert_exporter": "python",
   "pygments_lexer": "ipython3",
   "version": "3.13.1"
  },
  "polyglot_notebook": {
   "kernelInfo": {
    "defaultKernelName": "csharp",
    "items": [
     {
      "aliases": [],
      "name": "csharp"
     },
     {
      "aliases": [],
      "languageName": "javascript",
      "name": "javascript"
     }
    ]
   }
  }
 },
 "nbformat": 4,
 "nbformat_minor": 5
}
