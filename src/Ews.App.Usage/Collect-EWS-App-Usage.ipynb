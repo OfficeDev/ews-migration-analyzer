{
 "cells": [
  {
   "cell_type": "markdown",
   "id": "3e75fda0",
   "metadata": {},
   "source": [
    "# Collect EWS Usage Data from Audit Logs\n",
    "\n",
    "This notebook will collect app registration data from Entra and signin audit logs from Microsoft 365 for applications with EWS permissions. The data will be stored in CSV files in the `$OutputPath` folder and can be easily imported in Excel or Power BI for further analysis.\n",
    "\n",
    "Included in this repo is a second notebook `Report-EWS-App-Usage.ipynb` that can be used to review the data as well."
   ]
  },
  {
   "cell_type": "code",
   "execution_count": null,
   "id": "a9097739",
   "metadata": {
    "polyglot_notebook": {
     "kernelName": "pwsh"
    }
   },
   "outputs": [],
   "source": [
    "# Script to call Find-EwsUsage.ps1 \n",
    "\n",
    "# Configure Log Level\n",
    "$VerbosePreference = \"SilentlyContinue\"\n",
    "\n",
    "# Ensure Script can run in the current context\n",
    "Set-ExecutionPolicy -ExecutionPolicy Bypass -Scope Process -Force"
   ]
  },
  {
   "cell_type": "code",
   "execution_count": null,
   "metadata": {
    "polyglot_notebook": {
     "kernelName": "pwsh"
    }
   },
   "outputs": [],
   "source": [
    "# Import Utilities Module\n",
    "Import-Module ./Modules/EwsUtilities.psm1"
   ]
  },
  {
   "cell_type": "code",
   "execution_count": null,
   "metadata": {
    "polyglot_notebook": {
     "kernelName": "pwsh"
    }
   },
   "outputs": [],
   "source": [
    "# Load configuration\n",
    "$appSettings = Get-Config\n",
    "\n",
    "# Override variables if settings were loaded\n",
    "if ($appSettings) {\n",
    "    $TenantId = $appSettings.TenantId\n",
    "    $AuditAppId = $appSettings.AuditAppId\n",
    "    $AuditAppSecret = $appSettings.AuditAppSecret\n",
    "    $OutputPath = $appSettings.OutputPath\n",
    "    Write-Host \"Using values from configuration file\"\n",
    "} else {\n",
    "    $TenantId = \"Tenant ID of tenant to analyze\"\n",
    "    $AuditAppId = \"Application ID of application with audit permissions\"\n",
    "    $AuditAppSecret= \"App Secret of application with audit permissions\"\n",
    "    $OutputPath = \"Local path to store output files\"\n",
    "    Write-Host \"Using hardcoded values\"\n",
    "}\n",
    "\n",
    "# Ensure the output directory exists\n",
    "if (-not (Test-Path -Path $OutputPath)) {\n",
    "    New-Item -ItemType Directory -Path $OutputPath | Out-Null\n",
    "}\n"
   ]
  },
  {
   "cell_type": "code",
   "execution_count": null,
   "metadata": {
    "polyglot_notebook": {
     "kernelName": "pwsh"
    }
   },
   "outputs": [],
   "source": [
    "\n",
    "# Call Find-EwsUsage.ps1 with the required parameters\n",
    "Write-Host \"Calling Find-EwsUsage.ps1 with AppId, TenantId, and ClientSecret...\"\n",
    "#& $FindEwsUsageScriptPath `\n",
    "./Scripts/Find-EwsUsage.ps1 `\n",
    "    -OutputPath $OutputPath `\n",
    "    -OAuthClientId $AuditAppId `\n",
    "    -OAuthTenantId $TenantId `\n",
    "    -OAuthClientSecret (ConvertTo-SecureString -String $AuditAppSecret -AsPlainText -Force) `\n",
    "    -Operation GetEwsActivity `\n",
    "\n",
    "# Check if the script executed successfully\n",
    "if ($LASTEXITCODE -eq 0) {\n",
    "    Write-Host \"Find-EwsUsage.ps1 executed successfully. Check the output at: $OutputPath\"\n",
    "} else {\n",
    "    Write-Host \"Find-EwsUsage.ps1 execution failed. Please check the parameters and try again.\"\n",
    "}"
   ]
  }
 ],
 "metadata": {
  "kernelspec": {
   "display_name": ".NET (C#)",
   "language": "C#",
   "name": ".net-csharp"
  },
  "language_info": {
   "name": "polyglot-notebook"
  },
  "polyglot_notebook": {
   "kernelInfo": {
    "defaultKernelName": "csharp",
    "items": [
     {
      "aliases": [],
      "name": "csharp"
     },
     {
      "aliases": [],
      "languageName": "pwsh",
      "name": "pwsh"
     }
    ]
   }
  }
 },
 "nbformat": 4,
 "nbformat_minor": 5
}
