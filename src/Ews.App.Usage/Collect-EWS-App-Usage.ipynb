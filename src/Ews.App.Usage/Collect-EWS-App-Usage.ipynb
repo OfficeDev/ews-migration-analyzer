{
 "cells": [
  {
   "cell_type": "markdown",
   "id": "3e75fda0",
   "metadata": {},
   "source": [
    "# Collect EWS Usage Data from Audit Logs\n",
    "\n",
    "This notebook will collect app registration data from Entra and signin audit logs from Microsoft 365 for applications with EWS permissions. The data will be stored in CSV files in the `$OutputPath` folder and can be easily imported in Excel or Power BI for further analysis.\n",
    "\n",
    "Included in this repo is a second notebook `Report-EWS-App-Usage.ipynb` that can be used to review the data as well."
   ]
  },
  {
   "cell_type": "code",
   "execution_count": 6,
   "id": "a9097739",
   "metadata": {
    "polyglot_notebook": {
     "kernelName": "pwsh"
    }
   },
   "outputs": [],
   "source": [
    "# Script to call Find-EwsUsage.ps1 \n",
    "\n",
    "# Configure Log Level\n",
    "$VerbosePreference = \"SilentlyContinue\"\n",
    "\n",
    "# Ensure Script can run in the current context\n",
    "Set-ExecutionPolicy -ExecutionPolicy Bypass -Scope Process -Force"
   ]
  },
  {
   "cell_type": "code",
   "execution_count": 7,
   "metadata": {
    "polyglot_notebook": {
     "kernelName": "pwsh"
    }
   },
   "outputs": [],
   "source": [
    "# Import Utilities Module\n",
    "Import-Module ./Modules/EwsUtilities.psm1"
   ]
  },
  {
   "cell_type": "code",
   "execution_count": 8,
   "metadata": {
    "polyglot_notebook": {
     "kernelName": "pwsh"
    }
   },
   "outputs": [
    {
     "name": "stdout",
     "output_type": "stream",
     "text": [
      "Reading settings from ./appsettings.local.json\n",
      "Settings loaded successfully\n",
      "Using values from configuration file\n"
     ]
    }
   ],
   "source": [
    "# Load configuration\n",
    "$appSettings = Get-Config\n",
    "\n",
    "# Override variables if settings were loaded\n",
    "if ($appSettings) {\n",
    "    $TenantId = $appSettings.TenantId\n",
    "    $AuditAppId = $appSettings.AuditAppId\n",
    "    $AuditAppSecret = $appSettings.AuditAppSecret\n",
    "    $OutputPath = $appSettings.OutputPath\n",
    "    Write-Host \"Using values from configuration file\"\n",
    "} else {\n",
    "    $TenantId = \"Tenant ID of tenant to analyze\"\n",
    "    $AuditAppId = \"Application ID of application with audit permissions\"\n",
    "    $AuditAppSecret= \"App Secret of application with audit permissions\"\n",
    "    $OutputPath = \"Local path to store output files\"\n",
    "    Write-Host \"Using hardcoded values\"\n",
    "}\n",
    "\n",
    "# Ensure the output directory exists\n",
    "if (-not (Test-Path -Path $OutputPath)) {\n",
    "    New-Item -ItemType Directory -Path $OutputPath | Out-Null\n",
    "}\n"
   ]
  },
  {
   "cell_type": "code",
   "execution_count": 11,
   "metadata": {
    "polyglot_notebook": {
     "kernelName": "pwsh"
    }
   },
   "outputs": [
    {
     "name": "stdout",
     "output_type": "stream",
     "text": [
      "Calling Find-EwsUsage.ps1 with AppId, TenantId, and ClientSecret...\n",
      "\u001b[92mGetting a list of Entra App registrations...\u001b[0m\n"
     ]
    },
    {
     "data": {
      "text/plain": []
     },
     "metadata": {},
     "output_type": "display_data"
    },
    {
     "name": "stdout",
     "output_type": "stream",
     "text": [
      "\u001b[92mGetting a list of all Entra service applications...\u001b[0m\n",
      "\u001b[92mFiltering app registrations that use the  API...\u001b[0m\n",
      "\u001b[92mThe following applications have permissions to access the EWS API: \n",
      "\u001b[0m\n",
      "\u001b[92mChecking the sign-in activity for the applications...\u001b[0m\n",
      "\u001b[96mStarting query at 04/21/2025 12:33:58\u001b[0m\n",
      "\u001b[92mThe following applications have sign-in activity: \n",
      "\u001b[0m\n",
      "\u001b[96mQuery completed at 04/21/2025 12:34:18\u001b[0m\n",
      "Find-EwsUsage.ps1 executed successfully. Check the output at: ./Usage-Data\n"
     ]
    },
    {
     "data": {
      "text/html": [
       "<details open=\"open\" class=\"dni-treeview\"><summary><span class=\"dni-code-hint\"><code>Microsoft.PowerShell.Commands.Internal.Format.FormatStartData</code></span></summary><div><table><thead><tr></tr></thead><tbody><tr><td>ClassId2e4f51ef21dd47e99d3c952918aff9cd</td><td><div class=\"dni-plaintext\"><pre>033ecb2bc07a4d43b5ef94ed5a35d280</pre></div></td></tr><tr><td>pageHeaderEntry</td><td><div class=\"dni-plaintext\"><pre>&lt;null&gt;</pre></div></td></tr><tr><td>pageFooterEntry</td><td><div class=\"dni-plaintext\"><pre>&lt;null&gt;</pre></div></td></tr><tr><td>autosizeInfo</td><td><details class=\"dni-treeview\"><summary><span class=\"dni-code-hint\"><code>Microsoft.PowerShell.Commands.Internal.Format.AutosizeInfo</code></span></summary><div><table><thead><tr></tr></thead><tbody><tr><td>ClassId2e4f51ef21dd47e99d3c952918aff9cd</td><td><div class=\"dni-plaintext\"><pre>a27f094f0eec4d64845801a4c06a32ae</pre></div></td></tr><tr><td>objectCount</td><td><div class=\"dni-plaintext\"><pre>0</pre></div></td></tr></tbody></table></div></details></td></tr><tr><td>shapeInfo</td><td><details class=\"dni-treeview\"><summary><span class=\"dni-code-hint\"><code>Microsoft.PowerShell.Commands.Internal.Format.TableHeaderInfo</code></span></summary><div><table><thead><tr></tr></thead><tbody><tr><td>ClassId2e4f51ef21dd47e99d3c952918aff9cd</td><td><div class=\"dni-plaintext\"><pre>e3b7a39c089845d388b2e84c5d38f5dd</pre></div></td></tr><tr><td>hideHeader</td><td><div class=\"dni-plaintext\"><pre>False</pre></div></td></tr><tr><td>repeatHeader</td><td><div class=\"dni-plaintext\"><pre>False</pre></div></td></tr><tr><td>tableColumnInfoList</td><td><table><thead><tr><th><i>index</i></th><th>value</th></tr></thead><tbody><tr><td>0</td><td><details class=\"dni-treeview\"><summary><span class=\"dni-code-hint\"><code>Microsoft.PowerShell.Commands.Internal.Format.TableColumnInfo</code></span></summary><div><table><thead><tr></tr></thead><tbody><tr><td>ClassId2e4f51ef21dd47e99d3c952918aff9cd</td><td><div class=\"dni-plaintext\"><pre>7572aa4155ec4558817a615acf7dd92e</pre></div></td></tr><tr><td>width</td><td><div class=\"dni-plaintext\"><pre>0</pre></div></td></tr><tr><td>alignment</td><td><div class=\"dni-plaintext\"><pre>1</pre></div></td></tr><tr><td>label</td><td><div class=\"dni-plaintext\"><pre>&lt;null&gt;</pre></div></td></tr><tr><td>propertyName</td><td><div class=\"dni-plaintext\"><pre>AppId</pre></div></td></tr><tr><td>HeaderMatchesProperty</td><td><div class=\"dni-plaintext\"><pre>True</pre></div></td></tr></tbody></table></div></details></td></tr><tr><td>1</td><td><details class=\"dni-treeview\"><summary><span class=\"dni-code-hint\"><code>Microsoft.PowerShell.Commands.Internal.Format.TableColumnInfo</code></span></summary><div><table><thead><tr></tr></thead><tbody><tr><td>ClassId2e4f51ef21dd47e99d3c952918aff9cd</td><td><div class=\"dni-plaintext\"><pre>7572aa4155ec4558817a615acf7dd92e</pre></div></td></tr><tr><td>width</td><td><div class=\"dni-plaintext\"><pre>0</pre></div></td></tr><tr><td>alignment</td><td><div class=\"dni-plaintext\"><pre>1</pre></div></td></tr><tr><td>label</td><td><div class=\"dni-plaintext\"><pre>&lt;null&gt;</pre></div></td></tr><tr><td>propertyName</td><td><div class=\"dni-plaintext\"><pre>Application</pre></div></td></tr><tr><td>HeaderMatchesProperty</td><td><div class=\"dni-plaintext\"><pre>True</pre></div></td></tr></tbody></table></div></details></td></tr><tr><td>2</td><td><details class=\"dni-treeview\"><summary><span class=\"dni-code-hint\"><code>Microsoft.PowerShell.Commands.Internal.Format.TableColumnInfo</code></span></summary><div><table><thead><tr></tr></thead><tbody><tr><td>ClassId2e4f51ef21dd47e99d3c952918aff9cd</td><td><div class=\"dni-plaintext\"><pre>7572aa4155ec4558817a615acf7dd92e</pre></div></td></tr><tr><td>width</td><td><div class=\"dni-plaintext\"><pre>0</pre></div></td></tr><tr><td>alignment</td><td><div class=\"dni-plaintext\"><pre>1</pre></div></td></tr><tr><td>label</td><td><div class=\"dni-plaintext\"><pre>&lt;null&gt;</pre></div></td></tr><tr><td>propertyName</td><td><div class=\"dni-plaintext\"><pre>LastSignIn</pre></div></td></tr><tr><td>HeaderMatchesProperty</td><td><div class=\"dni-plaintext\"><pre>True</pre></div></td></tr></tbody></table></div></details></td></tr></tbody></table></td></tr></tbody></table></div></details></td></tr><tr><td>groupingEntry</td><td><div class=\"dni-plaintext\"><pre>&lt;null&gt;</pre></div></td></tr></tbody></table></div></details><style>\r\n",
       ".dni-code-hint {\r\n",
       "    font-style: italic;\r\n",
       "    overflow: hidden;\r\n",
       "    white-space: nowrap;\r\n",
       "}\r\n",
       ".dni-treeview {\r\n",
       "    white-space: nowrap;\r\n",
       "}\r\n",
       ".dni-treeview td {\r\n",
       "    vertical-align: top;\r\n",
       "    text-align: start;\r\n",
       "}\r\n",
       "details.dni-treeview {\r\n",
       "    padding-left: 1em;\r\n",
       "}\r\n",
       "table td {\r\n",
       "    text-align: start;\r\n",
       "}\r\n",
       "table tr { \r\n",
       "    vertical-align: top; \r\n",
       "    margin: 0em 0px;\r\n",
       "}\r\n",
       "table tr td pre \r\n",
       "{ \r\n",
       "    vertical-align: top !important; \r\n",
       "    margin: 0em 0px !important;\r\n",
       "} \r\n",
       "table th {\r\n",
       "    text-align: start;\r\n",
       "}\r\n",
       "</style>"
      ]
     },
     "metadata": {},
     "output_type": "display_data"
    },
    {
     "data": {
      "text/html": [
       "<details open=\"open\" class=\"dni-treeview\"><summary><span class=\"dni-code-hint\"><code>Microsoft.PowerShell.Commands.Internal.Format.GroupStartData</code></span></summary><div><table><thead><tr></tr></thead><tbody><tr><td>ClassId2e4f51ef21dd47e99d3c952918aff9cd</td><td><div class=\"dni-plaintext\"><pre>9e210fe47d09416682b841769c78b8a3</pre></div></td></tr><tr><td>shapeInfo</td><td><div class=\"dni-plaintext\"><pre>&lt;null&gt;</pre></div></td></tr><tr><td>groupingEntry</td><td><div class=\"dni-plaintext\"><pre>&lt;null&gt;</pre></div></td></tr></tbody></table></div></details><style>\r\n",
       ".dni-code-hint {\r\n",
       "    font-style: italic;\r\n",
       "    overflow: hidden;\r\n",
       "    white-space: nowrap;\r\n",
       "}\r\n",
       ".dni-treeview {\r\n",
       "    white-space: nowrap;\r\n",
       "}\r\n",
       ".dni-treeview td {\r\n",
       "    vertical-align: top;\r\n",
       "    text-align: start;\r\n",
       "}\r\n",
       "details.dni-treeview {\r\n",
       "    padding-left: 1em;\r\n",
       "}\r\n",
       "table td {\r\n",
       "    text-align: start;\r\n",
       "}\r\n",
       "table tr { \r\n",
       "    vertical-align: top; \r\n",
       "    margin: 0em 0px;\r\n",
       "}\r\n",
       "table tr td pre \r\n",
       "{ \r\n",
       "    vertical-align: top !important; \r\n",
       "    margin: 0em 0px !important;\r\n",
       "} \r\n",
       "table th {\r\n",
       "    text-align: start;\r\n",
       "}\r\n",
       "</style>"
      ]
     },
     "metadata": {},
     "output_type": "display_data"
    },
    {
     "data": {
      "text/html": [
       "<details open=\"open\" class=\"dni-treeview\"><summary><span class=\"dni-code-hint\"><code>Microsoft.PowerShell.Commands.Internal.Format.FormatEntryData</code></span></summary><div><table><thead><tr></tr></thead><tbody><tr><td>ClassId2e4f51ef21dd47e99d3c952918aff9cd</td><td><div class=\"dni-plaintext\"><pre>27c87ef9bbda4f709f6b4002fa4af63c</pre></div></td></tr><tr><td>formatEntryInfo</td><td><details class=\"dni-treeview\"><summary><span class=\"dni-code-hint\"><code>Microsoft.PowerShell.Commands.Internal.Format.TableRowEntry</code></span></summary><div><table><thead><tr></tr></thead><tbody><tr><td>ClassId2e4f51ef21dd47e99d3c952918aff9cd</td><td><div class=\"dni-plaintext\"><pre>0e59526e2dd441aa91e7fc952caf4a36</pre></div></td></tr><tr><td>formatPropertyFieldList</td><td><table><thead><tr><th><i>index</i></th><th>value</th></tr></thead><tbody><tr><td>0</td><td><details class=\"dni-treeview\"><summary><span class=\"dni-code-hint\"><code>Microsoft.PowerShell.Commands.Internal.Format.FormatPropertyField</code></span></summary><div><table><thead><tr></tr></thead><tbody><tr><td>ClassId2e4f51ef21dd47e99d3c952918aff9cd</td><td><div class=\"dni-plaintext\"><pre>78b102e894f742aca8c1d6737b6ff86a</pre></div></td></tr><tr><td>propertyValue</td><td><div class=\"dni-plaintext\"><pre>89f0ed2e-3148-4bf7-971b-f912f9e2563f</pre></div></td></tr><tr><td>alignment</td><td><div class=\"dni-plaintext\"><pre>0</pre></div></td></tr></tbody></table></div></details></td></tr><tr><td>1</td><td><details class=\"dni-treeview\"><summary><span class=\"dni-code-hint\"><code>Microsoft.PowerShell.Commands.Internal.Format.FormatPropertyField</code></span></summary><div><table><thead><tr></tr></thead><tbody><tr><td>ClassId2e4f51ef21dd47e99d3c952918aff9cd</td><td><div class=\"dni-plaintext\"><pre>78b102e894f742aca8c1d6737b6ff86a</pre></div></td></tr><tr><td>propertyValue</td><td><div class=\"dni-plaintext\"><pre>EWS Canary</pre></div></td></tr><tr><td>alignment</td><td><div class=\"dni-plaintext\"><pre>0</pre></div></td></tr></tbody></table></div></details></td></tr><tr><td>2</td><td><details class=\"dni-treeview\"><summary><span class=\"dni-code-hint\"><code>Microsoft.PowerShell.Commands.Internal.Format.FormatPropertyField</code></span></summary><div><table><thead><tr></tr></thead><tbody><tr><td>ClassId2e4f51ef21dd47e99d3c952918aff9cd</td><td><div class=\"dni-plaintext\"><pre>78b102e894f742aca8c1d6737b6ff86a</pre></div></td></tr><tr><td>propertyValue</td><td><div class=\"dni-plaintext\"><pre>4/16/2025 4:57:30 PM</pre></div></td></tr><tr><td>alignment</td><td><div class=\"dni-plaintext\"><pre>0</pre></div></td></tr></tbody></table></div></details></td></tr></tbody></table></td></tr><tr><td>multiLine</td><td><div class=\"dni-plaintext\"><pre>False</pre></div></td></tr></tbody></table></div></details></td></tr><tr><td>outOfBand</td><td><div class=\"dni-plaintext\"><pre>False</pre></div></td></tr><tr><td>writeStream</td><td><span>None</span></td></tr></tbody></table></div></details><style>\r\n",
       ".dni-code-hint {\r\n",
       "    font-style: italic;\r\n",
       "    overflow: hidden;\r\n",
       "    white-space: nowrap;\r\n",
       "}\r\n",
       ".dni-treeview {\r\n",
       "    white-space: nowrap;\r\n",
       "}\r\n",
       ".dni-treeview td {\r\n",
       "    vertical-align: top;\r\n",
       "    text-align: start;\r\n",
       "}\r\n",
       "details.dni-treeview {\r\n",
       "    padding-left: 1em;\r\n",
       "}\r\n",
       "table td {\r\n",
       "    text-align: start;\r\n",
       "}\r\n",
       "table tr { \r\n",
       "    vertical-align: top; \r\n",
       "    margin: 0em 0px;\r\n",
       "}\r\n",
       "table tr td pre \r\n",
       "{ \r\n",
       "    vertical-align: top !important; \r\n",
       "    margin: 0em 0px !important;\r\n",
       "} \r\n",
       "table th {\r\n",
       "    text-align: start;\r\n",
       "}\r\n",
       "</style>"
      ]
     },
     "metadata": {},
     "output_type": "display_data"
    },
    {
     "data": {
      "text/html": [
       "<details open=\"open\" class=\"dni-treeview\"><summary><span class=\"dni-code-hint\"><code>Microsoft.PowerShell.Commands.Internal.Format.FormatEntryData</code></span></summary><div><table><thead><tr></tr></thead><tbody><tr><td>ClassId2e4f51ef21dd47e99d3c952918aff9cd</td><td><div class=\"dni-plaintext\"><pre>27c87ef9bbda4f709f6b4002fa4af63c</pre></div></td></tr><tr><td>formatEntryInfo</td><td><details class=\"dni-treeview\"><summary><span class=\"dni-code-hint\"><code>Microsoft.PowerShell.Commands.Internal.Format.TableRowEntry</code></span></summary><div><table><thead><tr></tr></thead><tbody><tr><td>ClassId2e4f51ef21dd47e99d3c952918aff9cd</td><td><div class=\"dni-plaintext\"><pre>0e59526e2dd441aa91e7fc952caf4a36</pre></div></td></tr><tr><td>formatPropertyFieldList</td><td><table><thead><tr><th><i>index</i></th><th>value</th></tr></thead><tbody><tr><td>0</td><td><details class=\"dni-treeview\"><summary><span class=\"dni-code-hint\"><code>Microsoft.PowerShell.Commands.Internal.Format.FormatPropertyField</code></span></summary><div><table><thead><tr></tr></thead><tbody><tr><td>ClassId2e4f51ef21dd47e99d3c952918aff9cd</td><td><div class=\"dni-plaintext\"><pre>78b102e894f742aca8c1d6737b6ff86a</pre></div></td></tr><tr><td>propertyValue</td><td><div class=\"dni-plaintext\"><pre>b241900b-5e97-4a3f-931d-ec16709148a4</pre></div></td></tr><tr><td>alignment</td><td><div class=\"dni-plaintext\"><pre>0</pre></div></td></tr></tbody></table></div></details></td></tr><tr><td>1</td><td><details class=\"dni-treeview\"><summary><span class=\"dni-code-hint\"><code>Microsoft.PowerShell.Commands.Internal.Format.FormatPropertyField</code></span></summary><div><table><thead><tr></tr></thead><tbody><tr><td>ClassId2e4f51ef21dd47e99d3c952918aff9cd</td><td><div class=\"dni-plaintext\"><pre>78b102e894f742aca8c1d6737b6ff86a</pre></div></td></tr><tr><td>propertyValue</td><td><div class=\"dni-plaintext\"><pre>SPFx-Demo</pre></div></td></tr><tr><td>alignment</td><td><div class=\"dni-plaintext\"><pre>0</pre></div></td></tr></tbody></table></div></details></td></tr><tr><td>2</td><td><details class=\"dni-treeview\"><summary><span class=\"dni-code-hint\"><code>Microsoft.PowerShell.Commands.Internal.Format.FormatPropertyField</code></span></summary><div><table><thead><tr></tr></thead><tbody><tr><td>ClassId2e4f51ef21dd47e99d3c952918aff9cd</td><td><div class=\"dni-plaintext\"><pre>78b102e894f742aca8c1d6737b6ff86a</pre></div></td></tr><tr><td>propertyValue</td><td><div class=\"dni-plaintext\"><pre>None</pre></div></td></tr><tr><td>alignment</td><td><div class=\"dni-plaintext\"><pre>0</pre></div></td></tr></tbody></table></div></details></td></tr></tbody></table></td></tr><tr><td>multiLine</td><td><div class=\"dni-plaintext\"><pre>False</pre></div></td></tr></tbody></table></div></details></td></tr><tr><td>outOfBand</td><td><div class=\"dni-plaintext\"><pre>False</pre></div></td></tr><tr><td>writeStream</td><td><span>None</span></td></tr></tbody></table></div></details><style>\r\n",
       ".dni-code-hint {\r\n",
       "    font-style: italic;\r\n",
       "    overflow: hidden;\r\n",
       "    white-space: nowrap;\r\n",
       "}\r\n",
       ".dni-treeview {\r\n",
       "    white-space: nowrap;\r\n",
       "}\r\n",
       ".dni-treeview td {\r\n",
       "    vertical-align: top;\r\n",
       "    text-align: start;\r\n",
       "}\r\n",
       "details.dni-treeview {\r\n",
       "    padding-left: 1em;\r\n",
       "}\r\n",
       "table td {\r\n",
       "    text-align: start;\r\n",
       "}\r\n",
       "table tr { \r\n",
       "    vertical-align: top; \r\n",
       "    margin: 0em 0px;\r\n",
       "}\r\n",
       "table tr td pre \r\n",
       "{ \r\n",
       "    vertical-align: top !important; \r\n",
       "    margin: 0em 0px !important;\r\n",
       "} \r\n",
       "table th {\r\n",
       "    text-align: start;\r\n",
       "}\r\n",
       "</style>"
      ]
     },
     "metadata": {},
     "output_type": "display_data"
    },
    {
     "data": {
      "text/html": [
       "<details open=\"open\" class=\"dni-treeview\"><summary><span class=\"dni-code-hint\"><code>Microsoft.PowerShell.Commands.Internal.Format.FormatEntryData</code></span></summary><div><table><thead><tr></tr></thead><tbody><tr><td>ClassId2e4f51ef21dd47e99d3c952918aff9cd</td><td><div class=\"dni-plaintext\"><pre>27c87ef9bbda4f709f6b4002fa4af63c</pre></div></td></tr><tr><td>formatEntryInfo</td><td><details class=\"dni-treeview\"><summary><span class=\"dni-code-hint\"><code>Microsoft.PowerShell.Commands.Internal.Format.TableRowEntry</code></span></summary><div><table><thead><tr></tr></thead><tbody><tr><td>ClassId2e4f51ef21dd47e99d3c952918aff9cd</td><td><div class=\"dni-plaintext\"><pre>0e59526e2dd441aa91e7fc952caf4a36</pre></div></td></tr><tr><td>formatPropertyFieldList</td><td><table><thead><tr><th><i>index</i></th><th>value</th></tr></thead><tbody><tr><td>0</td><td><details class=\"dni-treeview\"><summary><span class=\"dni-code-hint\"><code>Microsoft.PowerShell.Commands.Internal.Format.FormatPropertyField</code></span></summary><div><table><thead><tr></tr></thead><tbody><tr><td>ClassId2e4f51ef21dd47e99d3c952918aff9cd</td><td><div class=\"dni-plaintext\"><pre>78b102e894f742aca8c1d6737b6ff86a</pre></div></td></tr><tr><td>propertyValue</td><td><div class=\"dni-plaintext\"><pre>d4e2e991-413e-47b0-9ef1-979959f38de8</pre></div></td></tr><tr><td>alignment</td><td><div class=\"dni-plaintext\"><pre>0</pre></div></td></tr></tbody></table></div></details></td></tr><tr><td>1</td><td><details class=\"dni-treeview\"><summary><span class=\"dni-code-hint\"><code>Microsoft.PowerShell.Commands.Internal.Format.FormatPropertyField</code></span></summary><div><table><thead><tr></tr></thead><tbody><tr><td>ClassId2e4f51ef21dd47e99d3c952918aff9cd</td><td><div class=\"dni-plaintext\"><pre>78b102e894f742aca8c1d6737b6ff86a</pre></div></td></tr><tr><td>propertyValue</td><td><div class=\"dni-plaintext\"><pre>PermissionViewer-PoC</pre></div></td></tr><tr><td>alignment</td><td><div class=\"dni-plaintext\"><pre>0</pre></div></td></tr></tbody></table></div></details></td></tr><tr><td>2</td><td><details class=\"dni-treeview\"><summary><span class=\"dni-code-hint\"><code>Microsoft.PowerShell.Commands.Internal.Format.FormatPropertyField</code></span></summary><div><table><thead><tr></tr></thead><tbody><tr><td>ClassId2e4f51ef21dd47e99d3c952918aff9cd</td><td><div class=\"dni-plaintext\"><pre>78b102e894f742aca8c1d6737b6ff86a</pre></div></td></tr><tr><td>propertyValue</td><td><div class=\"dni-plaintext\"><pre>None</pre></div></td></tr><tr><td>alignment</td><td><div class=\"dni-plaintext\"><pre>0</pre></div></td></tr></tbody></table></div></details></td></tr></tbody></table></td></tr><tr><td>multiLine</td><td><div class=\"dni-plaintext\"><pre>False</pre></div></td></tr></tbody></table></div></details></td></tr><tr><td>outOfBand</td><td><div class=\"dni-plaintext\"><pre>False</pre></div></td></tr><tr><td>writeStream</td><td><span>None</span></td></tr></tbody></table></div></details><style>\r\n",
       ".dni-code-hint {\r\n",
       "    font-style: italic;\r\n",
       "    overflow: hidden;\r\n",
       "    white-space: nowrap;\r\n",
       "}\r\n",
       ".dni-treeview {\r\n",
       "    white-space: nowrap;\r\n",
       "}\r\n",
       ".dni-treeview td {\r\n",
       "    vertical-align: top;\r\n",
       "    text-align: start;\r\n",
       "}\r\n",
       "details.dni-treeview {\r\n",
       "    padding-left: 1em;\r\n",
       "}\r\n",
       "table td {\r\n",
       "    text-align: start;\r\n",
       "}\r\n",
       "table tr { \r\n",
       "    vertical-align: top; \r\n",
       "    margin: 0em 0px;\r\n",
       "}\r\n",
       "table tr td pre \r\n",
       "{ \r\n",
       "    vertical-align: top !important; \r\n",
       "    margin: 0em 0px !important;\r\n",
       "} \r\n",
       "table th {\r\n",
       "    text-align: start;\r\n",
       "}\r\n",
       "</style>"
      ]
     },
     "metadata": {},
     "output_type": "display_data"
    },
    {
     "data": {
      "text/html": [
       "<details open=\"open\" class=\"dni-treeview\"><summary><span class=\"dni-code-hint\"><code>Microsoft.PowerShell.Commands.Internal.Format.GroupEndData</code></span></summary><div><table><thead><tr></tr></thead><tbody><tr><td>ClassId2e4f51ef21dd47e99d3c952918aff9cd</td><td><div class=\"dni-plaintext\"><pre>4ec4f0187cb04f4cb6973460dfe252df</pre></div></td></tr><tr><td>groupingEntry</td><td><div class=\"dni-plaintext\"><pre>&lt;null&gt;</pre></div></td></tr></tbody></table></div></details><style>\r\n",
       ".dni-code-hint {\r\n",
       "    font-style: italic;\r\n",
       "    overflow: hidden;\r\n",
       "    white-space: nowrap;\r\n",
       "}\r\n",
       ".dni-treeview {\r\n",
       "    white-space: nowrap;\r\n",
       "}\r\n",
       ".dni-treeview td {\r\n",
       "    vertical-align: top;\r\n",
       "    text-align: start;\r\n",
       "}\r\n",
       "details.dni-treeview {\r\n",
       "    padding-left: 1em;\r\n",
       "}\r\n",
       "table td {\r\n",
       "    text-align: start;\r\n",
       "}\r\n",
       "table tr { \r\n",
       "    vertical-align: top; \r\n",
       "    margin: 0em 0px;\r\n",
       "}\r\n",
       "table tr td pre \r\n",
       "{ \r\n",
       "    vertical-align: top !important; \r\n",
       "    margin: 0em 0px !important;\r\n",
       "} \r\n",
       "table th {\r\n",
       "    text-align: start;\r\n",
       "}\r\n",
       "</style>"
      ]
     },
     "metadata": {},
     "output_type": "display_data"
    },
    {
     "data": {
      "text/html": [
       "<details open=\"open\" class=\"dni-treeview\"><summary><span class=\"dni-code-hint\"><code>Microsoft.PowerShell.Commands.Internal.Format.FormatEndData</code></span></summary><div><table><thead><tr></tr></thead><tbody><tr><td>ClassId2e4f51ef21dd47e99d3c952918aff9cd</td><td><div class=\"dni-plaintext\"><pre>cf522b78d86c486691226b40aa69e95c</pre></div></td></tr><tr><td>groupingEntry</td><td><div class=\"dni-plaintext\"><pre>&lt;null&gt;</pre></div></td></tr></tbody></table></div></details><style>\r\n",
       ".dni-code-hint {\r\n",
       "    font-style: italic;\r\n",
       "    overflow: hidden;\r\n",
       "    white-space: nowrap;\r\n",
       "}\r\n",
       ".dni-treeview {\r\n",
       "    white-space: nowrap;\r\n",
       "}\r\n",
       ".dni-treeview td {\r\n",
       "    vertical-align: top;\r\n",
       "    text-align: start;\r\n",
       "}\r\n",
       "details.dni-treeview {\r\n",
       "    padding-left: 1em;\r\n",
       "}\r\n",
       "table td {\r\n",
       "    text-align: start;\r\n",
       "}\r\n",
       "table tr { \r\n",
       "    vertical-align: top; \r\n",
       "    margin: 0em 0px;\r\n",
       "}\r\n",
       "table tr td pre \r\n",
       "{ \r\n",
       "    vertical-align: top !important; \r\n",
       "    margin: 0em 0px !important;\r\n",
       "} \r\n",
       "table th {\r\n",
       "    text-align: start;\r\n",
       "}\r\n",
       "</style>"
      ]
     },
     "metadata": {},
     "output_type": "display_data"
    },
    {
     "ename": "Error",
     "evalue": "Cannot bind argument to parameter 'Message' because it is null.\r\nCannot bind argument to parameter 'Message' because it is null.\r\nCannot bind argument to parameter 'Message' because it is null.\r\nCannot bind argument to parameter 'Message' because it is null.\r\nCannot bind argument to parameter 'Message' because it is null.\r\nCannot bind argument to parameter 'Message' because it is null.\r\nCannot bind argument to parameter 'Message' because it is null.\r\nCannot bind argument to parameter 'Message' because it is null.\r\nCannot bind argument to parameter 'Message' because it is null.\r\nCannot bind argument to parameter 'Message' because it is null.\r\nCannot bind argument to parameter 'Message' because it is null.\r\nCannot bind argument to parameter 'Message' because it is null.\r\nCannot bind argument to parameter 'Message' because it is null.",
     "output_type": "error",
     "traceback": [
      "Cannot bind argument to parameter 'Message' because it is null.\r\n",
      "Cannot bind argument to parameter 'Message' because it is null.\r\n",
      "Cannot bind argument to parameter 'Message' because it is null.\r\n",
      "Cannot bind argument to parameter 'Message' because it is null.\r\n",
      "Cannot bind argument to parameter 'Message' because it is null.\r\n",
      "Cannot bind argument to parameter 'Message' because it is null.\r\n",
      "Cannot bind argument to parameter 'Message' because it is null.\r\n",
      "Cannot bind argument to parameter 'Message' because it is null.\r\n",
      "Cannot bind argument to parameter 'Message' because it is null.\r\n",
      "Cannot bind argument to parameter 'Message' because it is null.\r\n",
      "Cannot bind argument to parameter 'Message' because it is null.\r\n",
      "Cannot bind argument to parameter 'Message' because it is null.\r\n",
      "Cannot bind argument to parameter 'Message' because it is null."
     ]
    }
   ],
   "source": [
    "\n",
    "# Call Find-EwsUsage.ps1 with the required parameters\n",
    "Write-Host \"Calling Find-EwsUsage.ps1 with AppId, TenantId, and ClientSecret...\"\n",
    "#& $FindEwsUsageScriptPath `\n",
    "./Scripts/Find-EwsUsage.ps1 `\n",
    "    -OutputPath $OutputPath `\n",
    "    -OAuthClientId $AuditAppId `\n",
    "    -OAuthTenantId $TenantId `\n",
    "    -OAuthClientSecret (ConvertTo-SecureString -String $AuditAppSecret -AsPlainText -Force) `\n",
    "    -Operation GetEwsActivity `\n",
    "\n",
    "# Check if the script executed successfully\n",
    "if ($LASTEXITCODE -eq 0) {\n",
    "    Write-Host \"Find-EwsUsage.ps1 executed successfully. Check the output at: $OutputPath\"\n",
    "} else {\n",
    "    Write-Host \"Find-EwsUsage.ps1 execution failed. Please check the parameters and try again.\"\n",
    "}"
   ]
  },
  {
   "cell_type": "code",
   "execution_count": 10,
   "metadata": {
    "polyglot_notebook": {
     "kernelName": "pwsh"
    }
   },
   "outputs": [
    {
     "name": "stdout",
     "output_type": "stream",
     "text": [
      "\u001b[93mNo files found matching pattern: App-SignInActivity\u001b[0m\r\n"
     ]
    },
    {
     "data": {
      "text/plain": []
     },
     "metadata": {},
     "output_type": "display_data"
    },
    {
     "name": "stdout",
     "output_type": "stream",
     "text": [
      "Copied EWSEntraAppRegistrations-20250421122059.csv to EntraAppRegistrations-Current.csv\n",
      "\u001b[93mNo files found matching pattern: EWS-EntraAppRegistrations\u001b[0m\n",
      "Files with -Current suffix have been created in ./Usage-Data\n"
     ]
    }
   ],
   "source": [
    "# Get the most recent files for each type and copy them with -Current suffix\n",
    "\n",
    "# Function to find the most recent file matching a pattern and copy it\n",
    "function Copy-MostRecentFile {\n",
    "    param (\n",
    "        [string]$Path,\n",
    "        [string]$Pattern,\n",
    "        [string]$NewNamePrefix\n",
    "    )\n",
    "    \n",
    "    # Find the most recent file matching the pattern\n",
    "    $mostRecentFile = Get-ChildItem -Path $Path -Filter \"*$Pattern*.csv\" | \n",
    "                      Sort-Object LastWriteTime -Descending | \n",
    "                      Select-Object -First 1\n",
    "    \n",
    "    if ($mostRecentFile) {\n",
    "        $newFileName = \"$NewNamePrefix-Current.csv\"\n",
    "        $destinationPath = Join-Path -Path $Path -ChildPath $newFileName\n",
    "        \n",
    "        # Copy the file to the new name\n",
    "        Copy-Item -Path $mostRecentFile.FullName -Destination $destinationPath -Force\n",
    "        Write-Host \"Copied $($mostRecentFile.Name) to $newFileName\"\n",
    "    } else {\n",
    "        Write-Host \"No files found matching pattern: $Pattern\" -ForegroundColor Yellow\n",
    "    }\n",
    "}\n",
    "\n",
    "# Process each file type\n",
    "Copy-MostRecentFile -Path $OutputPath -Pattern \"App-SignInActivity\" -NewNamePrefix \"App-SignInActivity\"\n",
    "Copy-MostRecentFile -Path $OutputPath -Pattern \"EntraAppRegistrations\" -NewNamePrefix \"EntraAppRegistrations\"\n",
    "Copy-MostRecentFile -Path $OutputPath -Pattern \"EWS-EntraAppRegistrations\" -NewNamePrefix \"EWS-EntraAppRegistrations\"\n",
    "\n",
    "Write-Host \"Files with -Current suffix have been created in $OutputPath\""
   ]
  }
 ],
 "metadata": {
  "kernelspec": {
   "display_name": ".NET (C#)",
   "language": "C#",
   "name": ".net-csharp"
  },
  "language_info": {
   "name": "polyglot-notebook"
  },
  "polyglot_notebook": {
   "kernelInfo": {
    "defaultKernelName": "csharp",
    "items": [
     {
      "aliases": [],
      "name": "csharp"
     },
     {
      "aliases": [],
      "languageName": "pwsh",
      "name": "pwsh"
     }
    ]
   }
  }
 },
 "nbformat": 4,
 "nbformat_minor": 5
}
